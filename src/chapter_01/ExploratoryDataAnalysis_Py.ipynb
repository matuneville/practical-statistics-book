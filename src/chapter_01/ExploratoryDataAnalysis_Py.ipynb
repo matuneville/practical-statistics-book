{
 "cells": [
  {
   "cell_type": "code",
   "execution_count": 184,
   "metadata": {},
   "outputs": [],
   "source": [
    "import pandas as pd\n",
    "import matplotlib as plt\n",
    "import scipy\n",
    "import sqlite3\n",
    "\n",
    "# connect to SQLite database\n",
    "conn = sqlite3.connect('snic_provincias.db')\n",
    "\n",
    "# see some types\n",
    "# query = \"SELECT DISTINCT codigo_delito_snic_nombre AS Tipo FROM prov_stats LIMIT 10\"\n",
    "\n",
    "# df = pd.read_sql_query(query, conn)\n",
    "# print(df)\n"
   ]
  },
  {
   "cell_type": "code",
   "execution_count": 185,
   "metadata": {},
   "outputs": [
    {
     "name": "stdout",
     "output_type": "stream",
     "text": [
      "              Provincia   Año                Tipo  Cantidad       Tasa\n",
      "0              Santa Fe  2022  Homicidios dolosos       384  10.696382\n",
      "1                Chubut  2022  Homicidios dolosos        36   5.631212\n",
      "2              Misiones  2022  Homicidios dolosos        70   5.432775\n",
      "3               Neuquén  2022  Homicidios dolosos        36   5.288471\n",
      "4               Formosa  2022  Homicidios dolosos        30   4.880382\n",
      "5               Tucumán  2022  Homicidios dolosos        80   4.613296\n",
      "6                 Chaco  2022  Homicidios dolosos        49   3.991086\n",
      "7          Buenos Aires  2022  Homicidios dolosos       710   3.971863\n",
      "8            Santa Cruz  2022  Homicidios dolosos        14   3.647477\n",
      "9                 Salta  2022  Homicidios dolosos        53   3.631684\n",
      "10              Mendoza  2022  Homicidios dolosos        68   3.349653\n",
      "11  Santiago del Estero  2022  Homicidios dolosos        32   3.206114\n",
      "12             San Luis  2022  Homicidios dolosos        16   3.071931\n",
      "13                 CABA  2022  Homicidios dolosos        87   2.823255\n",
      "14            Río Negro  2022  Homicidios dolosos        20   2.609647\n",
      "15              Córdoba  2022  Homicidios dolosos        94   2.450637\n",
      "16                Jujuy  2022  Homicidios dolosos        18   2.285900\n",
      "17           Entre Ríos  2022  Homicidios dolosos        32   2.268043\n",
      "18     Tierra del Fuego  2022  Homicidios dolosos         4   2.198008\n",
      "19             La Pampa  2022  Homicidios dolosos         8   2.195860\n",
      "20           Corrientes  2022  Homicidios dolosos        25   2.193744\n",
      "21            Catamarca  2022  Homicidios dolosos         9   2.130299\n",
      "22             La Rioja  2022  Homicidios dolosos         6   1.486153\n",
      "23             San Juan  2022  Homicidios dolosos         9   1.128248\n"
     ]
    }
   ],
   "source": [
    "# query the database with type wanted\n",
    "query = \"\"\"\n",
    "    SELECT provincia_nombre AS Provincia, anio AS Año, codigo_delito_snic_nombre AS Tipo,\n",
    "        cantidad_hechos AS Cantidad, tasa_hechos AS Tasa\n",
    "    FROM prov_stats\n",
    "    WHERE Año = 2022 AND Tipo = 'Homicidios dolosos'\n",
    "    ORDER BY Tasa DESC\n",
    "    \"\"\"\n",
    "\n",
    "df = pd.read_sql_query(query, conn)\n",
    "print(df)"
   ]
  },
  {
   "cell_type": "markdown",
   "metadata": {},
   "source": [
    "### Estimates of Location: key ideas\n",
    "- The basic metric for location is the mean, but it can be sensitive to extreme\n",
    "values (outlier).\n",
    "- Other metrics (median, trimmed mean) are less sensitive to outliers and unusual\n",
    "distributions and hence are more robust."
   ]
  },
  {
   "cell_type": "code",
   "execution_count": 186,
   "metadata": {},
   "outputs": [
    {
     "data": {
      "text/plain": [
       "3.54925495"
      ]
     },
     "execution_count": 186,
     "metadata": {},
     "output_type": "execute_result"
    }
   ],
   "source": [
    "# Intentional crime rate Mean\n",
    "df['Tasa'].mean()"
   ]
  },
  {
   "cell_type": "code",
   "execution_count": 187,
   "metadata": {},
   "outputs": [
    {
     "data": {
      "text/plain": [
       "3.1390226"
      ]
     },
     "execution_count": 187,
     "metadata": {},
     "output_type": "execute_result"
    }
   ],
   "source": [
    "# Intentional crime rate Median\n",
    "df['Tasa'].median()"
   ]
  },
  {
   "cell_type": "code",
   "execution_count": 188,
   "metadata": {},
   "outputs": [
    {
     "data": {
      "text/plain": [
       "3.3120062100000007"
      ]
     },
     "execution_count": 188,
     "metadata": {},
     "output_type": "execute_result"
    }
   ],
   "source": [
    "# Intentional crime rate Trimmed Mean\n",
    "# good idea to exclude the Santa Fe outlier\n",
    "scipy.stats.trim_mean(df['Tasa'], 0.1)"
   ]
  },
  {
   "cell_type": "markdown",
   "metadata": {},
   "source": [
    "### Estimates of Variability: key ideas\n",
    "- Variance and standard deviation are the most widespread and routinely reported\n",
    "statistics of variability.\n",
    "- Both are sensitive to outliers.\n",
    "- More robust metrics include mean absolute deviation, median absolute deviation\n",
    "from the median, and percentiles (quantiles)."
   ]
  },
  {
   "cell_type": "code",
   "execution_count": 189,
   "metadata": {},
   "outputs": [
    {
     "data": {
      "text/plain": [
       "1.9687645835677894"
      ]
     },
     "execution_count": 189,
     "metadata": {},
     "output_type": "execute_result"
    }
   ],
   "source": [
    "# Intentional crime rate Standard Deviation\n",
    "df['Tasa'].std()\n",
    "# variance is the same squared"
   ]
  },
  {
   "cell_type": "code",
   "execution_count": 190,
   "metadata": {},
   "outputs": [
    {
     "data": {
      "text/plain": [
       "1.8961043499999999"
      ]
     },
     "execution_count": 190,
     "metadata": {},
     "output_type": "execute_result"
    }
   ],
   "source": [
    "# Intentional crime rate IQR\n",
    "# it is not sensitive to the Santa Fe outlier so its smaller than STD\n",
    "df['Tasa'].quantile(0.75) - df['Tasa'].quantile(0.25) \n",
    "# the MAD is calculated in R"
   ]
  },
  {
   "cell_type": "markdown",
   "metadata": {},
   "source": [
    "### Data distribution: key ideas"
   ]
  },
  {
   "cell_type": "code",
   "execution_count": 191,
   "metadata": {},
   "outputs": [
    {
     "data": {
      "text/plain": [
       "0.05    1.582775\n",
       "0.25    2.250534\n",
       "0.50    3.139023\n",
       "0.75    4.146638\n",
       "0.95    5.601446\n",
       "Name: Tasa, dtype: float64"
      ]
     },
     "execution_count": 191,
     "metadata": {},
     "output_type": "execute_result"
    }
   ],
   "source": [
    "# Percentiles / quantiles\n",
    "df['Tasa'].quantile([0.05, 0.25, 0.5, 0.75, 0.95])"
   ]
  },
  {
   "cell_type": "code",
   "execution_count": 192,
   "metadata": {},
   "outputs": [
    {
     "data": {
      "text/plain": [
       "Text(0, 0.5, 'Intentional crime rate')"
      ]
     },
     "execution_count": 192,
     "metadata": {},
     "output_type": "execute_result"
    },
    {
     "data": {
      "image/png": "[encoded data removed]",
      "text/plain": [
       "<Figure size 640x480 with 1 Axes>"
      ]
     },
     "metadata": {},
     "output_type": "display_data"
    }
   ],
   "source": [
    "# Crime rate Boxplot\n",
    "ax = (df['Tasa']).plot.box()\n",
    "ax.set_ylabel('Intentional crime rate')"
   ]
  },
  {
   "cell_type": "markdown",
   "metadata": {},
   "source": [
    "The _whiskers_ will not go beyond 1.5 times the IQR. The green line is the median, the top and bottom of the box are the .25 and .75 quantiles. The dot from upside is the Santa Fe outlier."
   ]
  },
  {
   "cell_type": "code",
   "execution_count": 193,
   "metadata": {},
   "outputs": [
    {
     "data": {
      "text/plain": [
       "Tasa\n",
       "(1.119, 3.042]     11\n",
       "(3.042, 4.956]      9\n",
       "(4.956, 6.869]      3\n",
       "(8.783, 10.696]     1\n",
       "(6.869, 8.783]      0\n",
       "Name: count, dtype: int64"
      ]
     },
     "execution_count": 193,
     "metadata": {},
     "output_type": "execute_result"
    }
   ],
   "source": [
    "# Crime rate Frecuency table\n",
    "pd.cut(df['Tasa'], 5).value_counts() # divide it into 5 equal size segments"
   ]
  },
  {
   "cell_type": "code",
   "execution_count": null,
   "metadata": {},
   "outputs": [],
   "source": []
  }
 ],
 "metadata": {
  "kernelspec": {
   "display_name": "Python 3",
   "language": "python",
   "name": "python3"
  },
  "language_info": {
   "codemirror_mode": {
    "name": "ipython",
    "version": 3
   },
   "file_extension": ".py",
   "mimetype": "text/x-python",
   "name": "python",
   "nbconvert_exporter": "python",
   "pygments_lexer": "ipython3",
   "version": "3.11.6"
  }
 },
 "nbformat": 4,
 "nbformat_minor": 2
}
