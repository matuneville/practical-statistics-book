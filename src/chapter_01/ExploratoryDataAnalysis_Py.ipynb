{
 "cells": [
  {
   "cell_type": "code",
   "execution_count": 2,
   "metadata": {},
   "outputs": [],
   "source": [
    "import pandas as pd\n",
    "import matplotlib.pyplot as plt\n",
    "import scipy\n",
    "import sqlite3\n",
    "\n",
    "# connect to SQLite database\n",
    "conn = sqlite3.connect('snic_provincias.db')\n"
   ]
  },
  {
   "cell_type": "code",
   "execution_count": 3,
   "metadata": {},
   "outputs": [
    {
     "data": {
      "text/html": [
       "<div>\n",
       "<style scoped>\n",
       "    .dataframe tbody tr th:only-of-type {\n",
       "        vertical-align: middle;\n",
       "    }\n",
       "\n",
       "    .dataframe tbody tr th {\n",
       "        vertical-align: top;\n",
       "    }\n",
       "\n",
       "    .dataframe thead th {\n",
       "        text-align: right;\n",
       "    }\n",
       "</style>\n",
       "<table border=\"1\" class=\"dataframe\">\n",
       "  <thead>\n",
       "    <tr style=\"text-align: right;\">\n",
       "      <th></th>\n",
       "      <th>Provincia</th>\n",
       "      <th>Año</th>\n",
       "      <th>Tipo</th>\n",
       "      <th>Victimas</th>\n",
       "      <th>Tasa</th>\n",
       "    </tr>\n",
       "  </thead>\n",
       "  <tbody>\n",
       "    <tr>\n",
       "      <th>0</th>\n",
       "      <td>Santa Fe</td>\n",
       "      <td>2022</td>\n",
       "      <td>Homicidios dolosos</td>\n",
       "      <td>409</td>\n",
       "      <td>11.392761</td>\n",
       "    </tr>\n",
       "    <tr>\n",
       "      <th>1</th>\n",
       "      <td>Chubut</td>\n",
       "      <td>2022</td>\n",
       "      <td>Homicidios dolosos</td>\n",
       "      <td>36</td>\n",
       "      <td>5.631212</td>\n",
       "    </tr>\n",
       "    <tr>\n",
       "      <th>2</th>\n",
       "      <td>Misiones</td>\n",
       "      <td>2022</td>\n",
       "      <td>Homicidios dolosos</td>\n",
       "      <td>71</td>\n",
       "      <td>5.510386</td>\n",
       "    </tr>\n",
       "    <tr>\n",
       "      <th>3</th>\n",
       "      <td>Neuquén</td>\n",
       "      <td>2022</td>\n",
       "      <td>Homicidios dolosos</td>\n",
       "      <td>36</td>\n",
       "      <td>5.288471</td>\n",
       "    </tr>\n",
       "    <tr>\n",
       "      <th>4</th>\n",
       "      <td>Formosa</td>\n",
       "      <td>2022</td>\n",
       "      <td>Homicidios dolosos</td>\n",
       "      <td>31</td>\n",
       "      <td>5.043061</td>\n",
       "    </tr>\n",
       "    <tr>\n",
       "      <th>5</th>\n",
       "      <td>Tucumán</td>\n",
       "      <td>2022</td>\n",
       "      <td>Homicidios dolosos</td>\n",
       "      <td>82</td>\n",
       "      <td>4.728629</td>\n",
       "    </tr>\n",
       "    <tr>\n",
       "      <th>6</th>\n",
       "      <td>Buenos Aires</td>\n",
       "      <td>2022</td>\n",
       "      <td>Homicidios dolosos</td>\n",
       "      <td>740</td>\n",
       "      <td>4.139688</td>\n",
       "    </tr>\n",
       "    <tr>\n",
       "      <th>7</th>\n",
       "      <td>Chaco</td>\n",
       "      <td>2022</td>\n",
       "      <td>Homicidios dolosos</td>\n",
       "      <td>49</td>\n",
       "      <td>3.991086</td>\n",
       "    </tr>\n",
       "    <tr>\n",
       "      <th>8</th>\n",
       "      <td>Santa Cruz</td>\n",
       "      <td>2022</td>\n",
       "      <td>Homicidios dolosos</td>\n",
       "      <td>14</td>\n",
       "      <td>3.647477</td>\n",
       "    </tr>\n",
       "    <tr>\n",
       "      <th>9</th>\n",
       "      <td>Salta</td>\n",
       "      <td>2022</td>\n",
       "      <td>Homicidios dolosos</td>\n",
       "      <td>53</td>\n",
       "      <td>3.631684</td>\n",
       "    </tr>\n",
       "    <tr>\n",
       "      <th>10</th>\n",
       "      <td>Santiago del Estero</td>\n",
       "      <td>2022</td>\n",
       "      <td>Homicidios dolosos</td>\n",
       "      <td>34</td>\n",
       "      <td>3.406496</td>\n",
       "    </tr>\n",
       "    <tr>\n",
       "      <th>11</th>\n",
       "      <td>Mendoza</td>\n",
       "      <td>2022</td>\n",
       "      <td>Homicidios dolosos</td>\n",
       "      <td>69</td>\n",
       "      <td>3.398913</td>\n",
       "    </tr>\n",
       "    <tr>\n",
       "      <th>12</th>\n",
       "      <td>San Luis</td>\n",
       "      <td>2022</td>\n",
       "      <td>Homicidios dolosos</td>\n",
       "      <td>16</td>\n",
       "      <td>3.071931</td>\n",
       "    </tr>\n",
       "    <tr>\n",
       "      <th>13</th>\n",
       "      <td>CABA</td>\n",
       "      <td>2022</td>\n",
       "      <td>Homicidios dolosos</td>\n",
       "      <td>89</td>\n",
       "      <td>2.888157</td>\n",
       "    </tr>\n",
       "    <tr>\n",
       "      <th>14</th>\n",
       "      <td>Tierra del Fuego</td>\n",
       "      <td>2022</td>\n",
       "      <td>Homicidios dolosos</td>\n",
       "      <td>5</td>\n",
       "      <td>2.747510</td>\n",
       "    </tr>\n",
       "    <tr>\n",
       "      <th>15</th>\n",
       "      <td>Río Negro</td>\n",
       "      <td>2022</td>\n",
       "      <td>Homicidios dolosos</td>\n",
       "      <td>20</td>\n",
       "      <td>2.609647</td>\n",
       "    </tr>\n",
       "    <tr>\n",
       "      <th>16</th>\n",
       "      <td>Córdoba</td>\n",
       "      <td>2022</td>\n",
       "      <td>Homicidios dolosos</td>\n",
       "      <td>99</td>\n",
       "      <td>2.580990</td>\n",
       "    </tr>\n",
       "    <tr>\n",
       "      <th>17</th>\n",
       "      <td>Jujuy</td>\n",
       "      <td>2022</td>\n",
       "      <td>Homicidios dolosos</td>\n",
       "      <td>19</td>\n",
       "      <td>2.412895</td>\n",
       "    </tr>\n",
       "    <tr>\n",
       "      <th>18</th>\n",
       "      <td>Entre Ríos</td>\n",
       "      <td>2022</td>\n",
       "      <td>Homicidios dolosos</td>\n",
       "      <td>32</td>\n",
       "      <td>2.268043</td>\n",
       "    </tr>\n",
       "    <tr>\n",
       "      <th>19</th>\n",
       "      <td>La Pampa</td>\n",
       "      <td>2022</td>\n",
       "      <td>Homicidios dolosos</td>\n",
       "      <td>8</td>\n",
       "      <td>2.195860</td>\n",
       "    </tr>\n",
       "    <tr>\n",
       "      <th>20</th>\n",
       "      <td>Corrientes</td>\n",
       "      <td>2022</td>\n",
       "      <td>Homicidios dolosos</td>\n",
       "      <td>25</td>\n",
       "      <td>2.193744</td>\n",
       "    </tr>\n",
       "    <tr>\n",
       "      <th>21</th>\n",
       "      <td>Catamarca</td>\n",
       "      <td>2022</td>\n",
       "      <td>Homicidios dolosos</td>\n",
       "      <td>9</td>\n",
       "      <td>2.130299</td>\n",
       "    </tr>\n",
       "    <tr>\n",
       "      <th>22</th>\n",
       "      <td>La Rioja</td>\n",
       "      <td>2022</td>\n",
       "      <td>Homicidios dolosos</td>\n",
       "      <td>6</td>\n",
       "      <td>1.486153</td>\n",
       "    </tr>\n",
       "    <tr>\n",
       "      <th>23</th>\n",
       "      <td>San Juan</td>\n",
       "      <td>2022</td>\n",
       "      <td>Homicidios dolosos</td>\n",
       "      <td>9</td>\n",
       "      <td>1.128248</td>\n",
       "    </tr>\n",
       "  </tbody>\n",
       "</table>\n",
       "</div>"
      ],
      "text/plain": [
       "              Provincia   Año                Tipo  Victimas       Tasa\n",
       "0              Santa Fe  2022  Homicidios dolosos       409  11.392761\n",
       "1                Chubut  2022  Homicidios dolosos        36   5.631212\n",
       "2              Misiones  2022  Homicidios dolosos        71   5.510386\n",
       "3               Neuquén  2022  Homicidios dolosos        36   5.288471\n",
       "4               Formosa  2022  Homicidios dolosos        31   5.043061\n",
       "5               Tucumán  2022  Homicidios dolosos        82   4.728629\n",
       "6          Buenos Aires  2022  Homicidios dolosos       740   4.139688\n",
       "7                 Chaco  2022  Homicidios dolosos        49   3.991086\n",
       "8            Santa Cruz  2022  Homicidios dolosos        14   3.647477\n",
       "9                 Salta  2022  Homicidios dolosos        53   3.631684\n",
       "10  Santiago del Estero  2022  Homicidios dolosos        34   3.406496\n",
       "11              Mendoza  2022  Homicidios dolosos        69   3.398913\n",
       "12             San Luis  2022  Homicidios dolosos        16   3.071931\n",
       "13                 CABA  2022  Homicidios dolosos        89   2.888157\n",
       "14     Tierra del Fuego  2022  Homicidios dolosos         5   2.747510\n",
       "15            Río Negro  2022  Homicidios dolosos        20   2.609647\n",
       "16              Córdoba  2022  Homicidios dolosos        99   2.580990\n",
       "17                Jujuy  2022  Homicidios dolosos        19   2.412895\n",
       "18           Entre Ríos  2022  Homicidios dolosos        32   2.268043\n",
       "19             La Pampa  2022  Homicidios dolosos         8   2.195860\n",
       "20           Corrientes  2022  Homicidios dolosos        25   2.193744\n",
       "21            Catamarca  2022  Homicidios dolosos         9   2.130299\n",
       "22             La Rioja  2022  Homicidios dolosos         6   1.486153\n",
       "23             San Juan  2022  Homicidios dolosos         9   1.128248"
      ]
     },
     "execution_count": 3,
     "metadata": {},
     "output_type": "execute_result"
    }
   ],
   "source": [
    "# query the database with type wanted\n",
    "query = \"\"\"\n",
    "    SELECT provincia_nombre AS Provincia, anio AS Año, codigo_delito_snic_nombre AS Tipo,\n",
    "        cantidad_victimas AS Victimas, tasa_victimas AS Tasa\n",
    "    FROM prov_stats\n",
    "    WHERE Año = 2022 AND Tipo = 'Homicidios dolosos'\n",
    "    ORDER BY Tasa DESC\n",
    "    \"\"\"\n",
    "\n",
    "df = pd.read_sql_query(query, conn)\n",
    "df"
   ]
  },
  {
   "cell_type": "markdown",
   "metadata": {},
   "source": [
    "### Estimates of Location: key ideas\n",
    "- The basic metric for location is the mean, but it can be sensitive to extreme\n",
    "values (outlier).\n",
    "- Other metrics (median, trimmed mean) are less sensitive to outliers and unusual\n",
    "distributions and hence are more robust."
   ]
  },
  {
   "cell_type": "code",
   "execution_count": 4,
   "metadata": {},
   "outputs": [
    {
     "data": {
      "text/plain": [
       "3.6468058041666667"
      ]
     },
     "execution_count": 4,
     "metadata": {},
     "output_type": "execute_result"
    }
   ],
   "source": [
    "# Intentional homicide rate Mean\n",
    "df['Tasa'].mean()"
   ]
  },
  {
   "cell_type": "code",
   "execution_count": 5,
   "metadata": {},
   "outputs": [
    {
     "data": {
      "text/plain": [
       "3.2354219"
      ]
     },
     "execution_count": 5,
     "metadata": {},
     "output_type": "execute_result"
    }
   ],
   "source": [
    "# Intentional homicide rate Median\n",
    "df['Tasa'].median()"
   ]
  },
  {
   "cell_type": "code",
   "execution_count": 6,
   "metadata": {},
   "outputs": [
    {
     "data": {
      "text/plain": [
       "3.3942482849999998"
      ]
     },
     "execution_count": 6,
     "metadata": {},
     "output_type": "execute_result"
    }
   ],
   "source": [
    "# Intentional homicide rate Trimmed Mean\n",
    "# good idea to exclude the Santa Fe outlier\n",
    "scipy.stats.trim_mean(df['Tasa'], 0.1)"
   ]
  },
  {
   "cell_type": "markdown",
   "metadata": {},
   "source": [
    "### Estimates of Variability: key ideas\n",
    "- Variance and standard deviation are the most widespread and routinely reported\n",
    "statistics of variability.\n",
    "- Both are sensitive to outliers.\n",
    "- More robust metrics include mean absolute deviation, median absolute deviation\n",
    "from the median, and percentiles (quantiles)."
   ]
  },
  {
   "cell_type": "code",
   "execution_count": 7,
   "metadata": {},
   "outputs": [
    {
     "data": {
      "text/plain": [
       "2.070332627249644"
      ]
     },
     "execution_count": 7,
     "metadata": {},
     "output_type": "execute_result"
    }
   ],
   "source": [
    "# Intentional homicide rate Standard Deviation\n",
    "df['Tasa'].std()\n",
    "# variance is the same squared"
   ]
  },
  {
   "cell_type": "code",
   "execution_count": 8,
   "metadata": {},
   "outputs": [
    {
     "data": {
      "text/plain": [
       "1.9102415249999996"
      ]
     },
     "execution_count": 8,
     "metadata": {},
     "output_type": "execute_result"
    }
   ],
   "source": [
    "# Intentional homicide rate IQR\n",
    "# it is not sensitive to the Santa Fe outlier so its smaller than STD\n",
    "df['Tasa'].quantile(0.75) - df['Tasa'].quantile(0.25) \n",
    "# the MAD is calculated in R"
   ]
  },
  {
   "cell_type": "markdown",
   "metadata": {},
   "source": [
    "### Data distribution: key ideas\n",
    "- A frequency histogram plots frequency counts on the y-axis and variable values on the x-axis; it gives a sense of the distribution of the data at a glance.\n",
    "- A frequency table is a tabular version of the frequency counts found in a histogram.\n",
    "- A boxplot—with the top and bottom of the box at the 75th and 25th percentiles, respectively—also gives a quick sense of the distribution of the data; it is often used in side-by-side displays to compare distributions.\n",
    "- A density plot is a smoothed version of a histogram; it requires a function to estimate a plot based on the data (multiple estimates are possible, of course)."
   ]
  },
  {
   "cell_type": "code",
   "execution_count": 9,
   "metadata": {},
   "outputs": [
    {
     "data": {
      "text/html": [
       "<div>\n",
       "<style scoped>\n",
       "    .dataframe tbody tr th:only-of-type {\n",
       "        vertical-align: middle;\n",
       "    }\n",
       "\n",
       "    .dataframe tbody tr th {\n",
       "        vertical-align: top;\n",
       "    }\n",
       "\n",
       "    .dataframe thead th {\n",
       "        text-align: right;\n",
       "    }\n",
       "</style>\n",
       "<table border=\"1\" class=\"dataframe\">\n",
       "  <thead>\n",
       "    <tr style=\"text-align: right;\">\n",
       "      <th></th>\n",
       "      <th>0.05</th>\n",
       "      <th>0.25</th>\n",
       "      <th>0.50</th>\n",
       "      <th>0.75</th>\n",
       "      <th>0.95</th>\n",
       "    </tr>\n",
       "  </thead>\n",
       "  <tbody>\n",
       "    <tr>\n",
       "      <th>Tasa</th>\n",
       "      <td>1.582775</td>\n",
       "      <td>2.376682</td>\n",
       "      <td>3.235422</td>\n",
       "      <td>4.286923</td>\n",
       "      <td>5.613088</td>\n",
       "    </tr>\n",
       "  </tbody>\n",
       "</table>\n",
       "</div>"
      ],
      "text/plain": [
       "          0.05      0.25      0.50      0.75      0.95\n",
       "Tasa  1.582775  2.376682  3.235422  4.286923  5.613088"
      ]
     },
     "execution_count": 9,
     "metadata": {},
     "output_type": "execute_result"
    }
   ],
   "source": [
    "# Percentiles / quantiles\n",
    "quantiles = df['Tasa'].quantile([0.05, 0.25, 0.5, 0.75, 0.95])\n",
    "quantiles.to_frame().transpose()"
   ]
  },
  {
   "cell_type": "code",
   "execution_count": 10,
   "metadata": {},
   "outputs": [
    {
     "data": {
      "text/plain": [
       "Text(0, 0.5, 'Intentional homicide rate')"
      ]
     },
     "execution_count": 10,
     "metadata": {},
     "output_type": "execute_result"
    },
    {
     "data": {
      "image/png": "[encoded data removed]",
      "text/plain": [
       "<Figure size 500x300 with 1 Axes>"
      ]
     },
     "metadata": {},
     "output_type": "display_data"
    }
   ],
   "source": [
    "# homicide rate Boxplot\n",
    "ax = (df['Tasa']).plot.box(figsize=(5,3))\n",
    "ax.grid(True, linewidth=\"0.4\", color=\"black\", linestyle=\"--\")\n",
    "ax.set_ylabel('Intentional homicide rate')"
   ]
  },
  {
   "cell_type": "markdown",
   "metadata": {},
   "source": [
    "The _whiskers_ will not go beyond 1.5 times the IQR. The green line is the median, the top and bottom of the box are the .25 and .75 quantiles. The dot from upside is the Santa Fe outlier."
   ]
  },
  {
   "cell_type": "code",
   "execution_count": 11,
   "metadata": {},
   "outputs": [
    {
     "data": {
      "text/html": [
       "<div>\n",
       "<style scoped>\n",
       "    .dataframe tbody tr th:only-of-type {\n",
       "        vertical-align: middle;\n",
       "    }\n",
       "\n",
       "    .dataframe tbody tr th {\n",
       "        vertical-align: top;\n",
       "    }\n",
       "\n",
       "    .dataframe thead th {\n",
       "        text-align: right;\n",
       "    }\n",
       "</style>\n",
       "<table border=\"1\" class=\"dataframe\">\n",
       "  <thead>\n",
       "    <tr style=\"text-align: right;\">\n",
       "      <th>Tasa</th>\n",
       "      <th>(1.118, 3.181]</th>\n",
       "      <th>(3.181, 5.234]</th>\n",
       "      <th>(5.234, 7.287]</th>\n",
       "      <th>(7.287, 9.34]</th>\n",
       "      <th>(9.34, 11.393]</th>\n",
       "    </tr>\n",
       "  </thead>\n",
       "  <tbody>\n",
       "    <tr>\n",
       "      <th>count</th>\n",
       "      <td>12</td>\n",
       "      <td>8</td>\n",
       "      <td>3</td>\n",
       "      <td>0</td>\n",
       "      <td>1</td>\n",
       "    </tr>\n",
       "  </tbody>\n",
       "</table>\n",
       "</div>"
      ],
      "text/plain": [
       "Tasa   (1.118, 3.181]  (3.181, 5.234]  (5.234, 7.287]  (7.287, 9.34]  \\\n",
       "count              12               8               3              0   \n",
       "\n",
       "Tasa   (9.34, 11.393]  \n",
       "count               1  "
      ]
     },
     "execution_count": 11,
     "metadata": {},
     "output_type": "execute_result"
    }
   ],
   "source": [
    "# homicide rate Frecuency table\n",
    "freq = pd.cut(df['Tasa'], 5).value_counts() # divide it into 5 equal size segments\n",
    "freq.to_frame().transpose().sort_index(axis=1)"
   ]
  },
  {
   "cell_type": "code",
   "execution_count": 12,
   "metadata": {},
   "outputs": [
    {
     "data": {
      "text/plain": [
       "Text(0.5, 0, 'Intentional homicide rate')"
      ]
     },
     "execution_count": 12,
     "metadata": {},
     "output_type": "execute_result"
    },
    {
     "data": {
      "image/png": "[encoded data removed]",
      "text/plain": [
       "<Figure size 500x300 with 1 Axes>"
      ]
     },
     "metadata": {},
     "output_type": "display_data"
    }
   ],
   "source": [
    "# homicide rate Histogram, showing the frecuency of each interval value\n",
    "ax = (df['Tasa']).plot.hist(figsize=(5,3), bins=15,\n",
    "                            color=\"lightgray\", edgecolor=\"black\")\n",
    "ax.grid(True, linewidth=\"0.4\", color=\"black\", linestyle=\"--\")\n",
    "ax.set_xlabel(\"Intentional homicide rate\")"
   ]
  },
  {
   "cell_type": "code",
   "execution_count": 13,
   "metadata": {},
   "outputs": [
    {
     "data": {
      "text/plain": [
       "Text(0.5, 0, 'Intentional homicide rate')"
      ]
     },
     "execution_count": 13,
     "metadata": {},
     "output_type": "execute_result"
    },
    {
     "data": {
      "image/png": "[encoded data removed]",
      "text/plain": [
       "<Figure size 500x300 with 1 Axes>"
      ]
     },
     "metadata": {},
     "output_type": "display_data"
    }
   ],
   "source": [
    "# homicide rate Density plot\n",
    "ax = (df['Tasa']).plot.hist(density=True, figsize=(5,3), bins=15, \n",
    "                            color=\"lightgray\", edgecolor=\"black\", alpha=0.5)\n",
    "(df['Tasa']).plot.density(ax=ax, color=\"red\")\n",
    "ax.grid(True, linewidth=\"0.4\", color=\"black\", linestyle=\"--\")\n",
    "ax.set_xlabel(\"Intentional homicide rate\")"
   ]
  },
  {
   "cell_type": "markdown",
   "metadata": {},
   "source": [
    "### Binary and Categorical Data: key ideas\n",
    "- Categorical data is typically summed up in proportions and can be visualized in a bar chart.\n",
    "- Categories might represent distinct things (different crime categories, male and female, etc), levels of a factor variable (low, medium, and high), or numeric data that has been binned.\n",
    "- Expected value is the sum of values times their probability of occurrence, often used to sum up factor variable levels"
   ]
  },
  {
   "cell_type": "code",
   "execution_count": 14,
   "metadata": {},
   "outputs": [
    {
     "data": {
      "text/html": [
       "<div>\n",
       "<style scoped>\n",
       "    .dataframe tbody tr th:only-of-type {\n",
       "        vertical-align: middle;\n",
       "    }\n",
       "\n",
       "    .dataframe tbody tr th {\n",
       "        vertical-align: top;\n",
       "    }\n",
       "\n",
       "    .dataframe thead th {\n",
       "        text-align: right;\n",
       "    }\n",
       "</style>\n",
       "<table border=\"1\" class=\"dataframe\">\n",
       "  <thead>\n",
       "    <tr style=\"text-align: right;\">\n",
       "      <th></th>\n",
       "      <th>Provincia</th>\n",
       "      <th>Año</th>\n",
       "      <th>Tipo</th>\n",
       "      <th>Hechos</th>\n",
       "    </tr>\n",
       "  </thead>\n",
       "  <tbody>\n",
       "    <tr>\n",
       "      <th>0</th>\n",
       "      <td>CABA</td>\n",
       "      <td>2022</td>\n",
       "      <td>Delitos contra el honor</td>\n",
       "      <td>40</td>\n",
       "    </tr>\n",
       "    <tr>\n",
       "      <th>1</th>\n",
       "      <td>CABA</td>\n",
       "      <td>2022</td>\n",
       "      <td>Delitos contra el estado civil</td>\n",
       "      <td>1</td>\n",
       "    </tr>\n",
       "    <tr>\n",
       "      <th>2</th>\n",
       "      <td>CABA</td>\n",
       "      <td>2022</td>\n",
       "      <td>Delitos contra la seguridad pública</td>\n",
       "      <td>683</td>\n",
       "    </tr>\n",
       "    <tr>\n",
       "      <th>3</th>\n",
       "      <td>CABA</td>\n",
       "      <td>2022</td>\n",
       "      <td>Delitos contra el orden público</td>\n",
       "      <td>127</td>\n",
       "    </tr>\n",
       "    <tr>\n",
       "      <th>4</th>\n",
       "      <td>CABA</td>\n",
       "      <td>2022</td>\n",
       "      <td>Delitos contra la seguridad de la nación</td>\n",
       "      <td>2</td>\n",
       "    </tr>\n",
       "    <tr>\n",
       "      <th>5</th>\n",
       "      <td>CABA</td>\n",
       "      <td>2022</td>\n",
       "      <td>Delitos contra los poderes públicos y el orden...</td>\n",
       "      <td>2</td>\n",
       "    </tr>\n",
       "    <tr>\n",
       "      <th>6</th>\n",
       "      <td>CABA</td>\n",
       "      <td>2022</td>\n",
       "      <td>Delitos contra la administración pública</td>\n",
       "      <td>1916</td>\n",
       "    </tr>\n",
       "    <tr>\n",
       "      <th>7</th>\n",
       "      <td>CABA</td>\n",
       "      <td>2022</td>\n",
       "      <td>Delitos contra la fe pública</td>\n",
       "      <td>629</td>\n",
       "    </tr>\n",
       "    <tr>\n",
       "      <th>8</th>\n",
       "      <td>CABA</td>\n",
       "      <td>2022</td>\n",
       "      <td>Delitos migratorios</td>\n",
       "      <td>1</td>\n",
       "    </tr>\n",
       "    <tr>\n",
       "      <th>9</th>\n",
       "      <td>CABA</td>\n",
       "      <td>2022</td>\n",
       "      <td>Delitos contra el orden económico y financiero</td>\n",
       "      <td>44</td>\n",
       "    </tr>\n",
       "  </tbody>\n",
       "</table>\n",
       "</div>"
      ],
      "text/plain": [
       "  Provincia   Año                                               Tipo  Hechos\n",
       "0      CABA  2022                            Delitos contra el honor      40\n",
       "1      CABA  2022                     Delitos contra el estado civil       1\n",
       "2      CABA  2022                Delitos contra la seguridad pública     683\n",
       "3      CABA  2022                    Delitos contra el orden público     127\n",
       "4      CABA  2022           Delitos contra la seguridad de la nación       2\n",
       "5      CABA  2022  Delitos contra los poderes públicos y el orden...       2\n",
       "6      CABA  2022           Delitos contra la administración pública    1916\n",
       "7      CABA  2022                       Delitos contra la fe pública     629\n",
       "8      CABA  2022                                Delitos migratorios       1\n",
       "9      CABA  2022     Delitos contra el orden económico y financiero      44"
      ]
     },
     "execution_count": 14,
     "metadata": {},
     "output_type": "execute_result"
    }
   ],
   "source": [
    "# Select all the crimes categories from CABA\n",
    "query = \"\"\"\n",
    "    SELECT provincia_nombre AS Provincia, anio AS Año, codigo_delito_snic_nombre AS Tipo,\n",
    "        cantidad_hechos AS Hechos\n",
    "    FROM prov_stats\n",
    "    WHERE Año = 2022 AND Tipo LIKE 'Delitos%' AND Provincia = 'CABA'\n",
    "    \"\"\"\n",
    "\n",
    "df = pd.read_sql_query(query, conn)\n",
    "df"
   ]
  },
  {
   "cell_type": "code",
   "execution_count": 15,
   "metadata": {},
   "outputs": [
    {
     "data": {
      "text/plain": [
       "Text(0, 0.5, 'Cantidad de hechos')"
      ]
     },
     "execution_count": 15,
     "metadata": {},
     "output_type": "execute_result"
    },
    {
     "data": {
      "image/png": "[encoded data removed]",
      "text/plain": [
       "<Figure size 500x300 with 1 Axes>"
      ]
     },
     "metadata": {},
     "output_type": "display_data"
    }
   ],
   "source": [
    "# Crime category bar chart\n",
    "ax = df['Hechos'].plot.bar(figsize=(5,3), color=\"lightgray\", edgecolor=\"black\")\n",
    "ax.grid(True)\n",
    "ax.set_xlabel('Categoría de delito por ID')\n",
    "ax.set_ylabel('Cantidad de hechos')\n",
    "\n",
    "# the Mode here is the number 6"
   ]
  },
  {
   "cell_type": "code",
   "execution_count": 16,
   "metadata": {},
   "outputs": [
    {
     "data": {
      "text/html": [
       "<div>\n",
       "<style scoped>\n",
       "    .dataframe tbody tr th:only-of-type {\n",
       "        vertical-align: middle;\n",
       "    }\n",
       "\n",
       "    .dataframe tbody tr th {\n",
       "        vertical-align: top;\n",
       "    }\n",
       "\n",
       "    .dataframe thead th {\n",
       "        text-align: right;\n",
       "    }\n",
       "</style>\n",
       "<table border=\"1\" class=\"dataframe\">\n",
       "  <thead>\n",
       "    <tr style=\"text-align: right;\">\n",
       "      <th></th>\n",
       "      <th>0</th>\n",
       "      <th>1</th>\n",
       "      <th>2</th>\n",
       "      <th>3</th>\n",
       "      <th>4</th>\n",
       "      <th>5</th>\n",
       "      <th>6</th>\n",
       "      <th>7</th>\n",
       "      <th>8</th>\n",
       "      <th>9</th>\n",
       "    </tr>\n",
       "  </thead>\n",
       "  <tbody>\n",
       "    <tr>\n",
       "      <th>Probability</th>\n",
       "      <td>0.011611</td>\n",
       "      <td>0.00029</td>\n",
       "      <td>0.198258</td>\n",
       "      <td>0.036865</td>\n",
       "      <td>0.000581</td>\n",
       "      <td>0.000581</td>\n",
       "      <td>0.556168</td>\n",
       "      <td>0.182583</td>\n",
       "      <td>0.00029</td>\n",
       "      <td>0.012772</td>\n",
       "    </tr>\n",
       "  </tbody>\n",
       "</table>\n",
       "</div>"
      ],
      "text/plain": [
       "                    0        1         2         3         4         5  \\\n",
       "Probability  0.011611  0.00029  0.198258  0.036865  0.000581  0.000581   \n",
       "\n",
       "                    6         7        8         9  \n",
       "Probability  0.556168  0.182583  0.00029  0.012772  "
      ]
     },
     "execution_count": 16,
     "metadata": {},
     "output_type": "execute_result"
    }
   ],
   "source": [
    "# Probabilities\n",
    "prob = df['Hechos'] / sum(df['Hechos'])\n",
    "prob.name = 'Probability'\n",
    "prob.to_frame().transpose()"
   ]
  },
  {
   "cell_type": "code",
   "execution_count": 17,
   "metadata": {},
   "outputs": [
    {
     "data": {
      "text/plain": [
       "1321.5851959361391"
      ]
     },
     "execution_count": 17,
     "metadata": {},
     "output_type": "execute_result"
    }
   ],
   "source": [
    "# Expected value\n",
    "sum(prob * df['Hechos'])"
   ]
  },
  {
   "cell_type": "markdown",
   "metadata": {},
   "source": [
    "### Correlation\n",
    "\n",
    "- The correlation coefficient measures the extent to which two paired variables (e.g., height and weight for individuals) are associated with one another.\n",
    "- When high values of _v1_ go with high values of _v2_, _v1_ and _v2_ are positively associated.\n",
    "- When high values of v1 go with low values of _v2_, v1 and _v2_ are negatively associated.\n",
    "- The correlation coefficient is a standardized metric, so that it always ranges from –1 (perfect negative correlation) to +1 (perfect positive correlation).\n",
    "- A correlation coefficient of zero indicates no correlation, but be aware that ran‐\n",
    "dom arrangements of data will produce both positive and negative values for the\n",
    "correlation coefficient just by chance."
   ]
  },
  {
   "cell_type": "code",
   "execution_count": 18,
   "metadata": {},
   "outputs": [
    {
     "data": {
      "text/html": [
       "<div>\n",
       "<style scoped>\n",
       "    .dataframe tbody tr th:only-of-type {\n",
       "        vertical-align: middle;\n",
       "    }\n",
       "\n",
       "    .dataframe tbody tr th {\n",
       "        vertical-align: top;\n",
       "    }\n",
       "\n",
       "    .dataframe thead th {\n",
       "        text-align: right;\n",
       "    }\n",
       "</style>\n",
       "<table border=\"1\" class=\"dataframe\">\n",
       "  <thead>\n",
       "    <tr style=\"text-align: right;\">\n",
       "      <th></th>\n",
       "      <th>T</th>\n",
       "      <th>CTL</th>\n",
       "      <th>FTR</th>\n",
       "      <th>VZ</th>\n",
       "      <th>LVLT</th>\n",
       "    </tr>\n",
       "  </thead>\n",
       "  <tbody>\n",
       "    <tr>\n",
       "      <th>T</th>\n",
       "      <td>1.00</td>\n",
       "      <td>0.47</td>\n",
       "      <td>0.33</td>\n",
       "      <td>0.68</td>\n",
       "      <td>0.28</td>\n",
       "    </tr>\n",
       "    <tr>\n",
       "      <th>CTL</th>\n",
       "      <td>0.47</td>\n",
       "      <td>1.00</td>\n",
       "      <td>0.42</td>\n",
       "      <td>0.42</td>\n",
       "      <td>0.29</td>\n",
       "    </tr>\n",
       "    <tr>\n",
       "      <th>FTR</th>\n",
       "      <td>0.33</td>\n",
       "      <td>0.42</td>\n",
       "      <td>1.00</td>\n",
       "      <td>0.29</td>\n",
       "      <td>0.26</td>\n",
       "    </tr>\n",
       "    <tr>\n",
       "      <th>VZ</th>\n",
       "      <td>0.68</td>\n",
       "      <td>0.42</td>\n",
       "      <td>0.29</td>\n",
       "      <td>1.00</td>\n",
       "      <td>0.24</td>\n",
       "    </tr>\n",
       "    <tr>\n",
       "      <th>LVLT</th>\n",
       "      <td>0.28</td>\n",
       "      <td>0.29</td>\n",
       "      <td>0.26</td>\n",
       "      <td>0.24</td>\n",
       "      <td>1.00</td>\n",
       "    </tr>\n",
       "  </tbody>\n",
       "</table>\n",
       "</div>"
      ],
      "text/plain": [
       "         T   CTL   FTR    VZ  LVLT\n",
       "T     1.00  0.47  0.33  0.68  0.28\n",
       "CTL   0.47  1.00  0.42  0.42  0.29\n",
       "FTR   0.33  0.42  1.00  0.29  0.26\n",
       "VZ    0.68  0.42  0.29  1.00  0.24\n",
       "LVLT  0.28  0.29  0.26  0.24  1.00"
      ]
     },
     "execution_count": 18,
     "metadata": {},
     "output_type": "execute_result"
    }
   ],
   "source": [
    "sp500_sym = pd.read_csv('sp500_sectors.csv')\n",
    "sp500_px = pd.read_csv('sp500_data.csv', index_col=0)\n",
    "\n",
    "# take telecommunications symbols\n",
    "telecom_symbols = sp500_sym[sp500_sym['sector'] == 'telecommunications_services']['symbol']\n",
    "\n",
    "# take data from 07/2012 through 06/2015 of telecom. stocks\n",
    "telecom = sp500_px.loc[sp500_px.index >= '2012-07-01', telecom_symbols]\n",
    "\n",
    "\n",
    "# correlation between telecommunication stock returns,\n",
    "# taking all the data between the two dates\n",
    "corr = telecom.corr('pearson')\n",
    "round(corr, 2) # round 2 decimals"
   ]
  },
  {
   "cell_type": "code",
   "execution_count": 31,
   "metadata": {},
   "outputs": [
    {
     "data": {
      "text/plain": [
       "Index(['XLI', 'QQQ', 'SPY', 'DIA', 'GLD', 'VXX', 'USO', 'IWM', 'XLE', 'XLY',\n",
       "       'XLU', 'XLB', 'XTL', 'XLV', 'XLP', 'XLF', 'XLK'],\n",
       "      dtype='object')"
      ]
     },
     "execution_count": 31,
     "metadata": {},
     "output_type": "execute_result"
    }
   ],
   "source": [
    "# now focus on exchange-traded funds (ETFs)\n",
    "etfs = sp500_px.loc[sp500_px.index > '2012-07-01',  sp500_sym[sp500_sym['sector'] == 'etf']['symbol']]\n",
    "etfs.columns"
   ]
  },
  {
   "cell_type": "code",
   "execution_count": 59,
   "metadata": {},
   "outputs": [
    {
     "data": {
      "image/png": "[encoded data removed]",
      "text/plain": [
       "<Figure size 500x400 with 2 Axes>"
      ]
     },
     "metadata": {},
     "output_type": "display_data"
    }
   ],
   "source": [
    "\n",
    "# there are too many columns to read a correlation matrix\n",
    "# so we can plot the correlation as a heatmap (we use the lib seaborn for this)\n",
    "\n",
    "import seaborn as sns\n",
    "\n",
    "fig, ax = plt.subplots(figsize=(5, 4))\n",
    "ax = sns.heatmap(etfs.corr(), vmin=-1, vmax=1, # [-1,1] for correlation\n",
    "                 cmap=sns.diverging_palette(240, 15, as_cmap=True),\n",
    "                 ax=ax)\n",
    "\n",
    "plt.tight_layout()"
   ]
  },
  {
   "cell_type": "markdown",
   "metadata": {},
   "source": [
    "Rank-based correlation coefficients like _Spearman’s rho_ and _Kendall’s tau_ are robust to outliers and handle some nonlinearities. However, _Pearson’s_ correlation is often used for exploratory analysis by data scientists. Rank-based coefficients are typically used for smaller data sets and specific hypothesis tests."
   ]
  },
  {
   "cell_type": "code",
   "execution_count": 99,
   "metadata": {},
   "outputs": [
    {
     "data": {
      "image/png": "[encoded data removed]",
      "text/plain": [
       "<Figure size 1000x400 with 2 Axes>"
      ]
     },
     "metadata": {},
     "output_type": "display_data"
    }
   ],
   "source": [
    "# Scatterplot: to visualize the relationship between two measured data variables\n",
    "fig, axes = plt.subplots(1, 2, figsize=(10, 4))  # 1 row, 2 columns for the subplots\n",
    "\n",
    "# this one is the correlation between the daily returns for ATT and Verizon, which are pretty correlated\n",
    "ax1 = telecom.plot.scatter(x='T', y='VZ', ax=axes[0], color=(0, 0, 0, 0), edgecolors='black')\n",
    "ax1.axhline(0, color='grey', lw=0.5)\n",
    "ax1.axvline(0, color='grey', lw=0.5)\n",
    "\n",
    "# Plot for LVLT vs. FTR, this is more disperse as they are not so correlated\n",
    "ax2 = telecom.plot.scatter(x='LVLT', y='FTR', ax=axes[1], color=(0, 0, 0, 0), edgecolors='black')\n",
    "ax2.axhline(0, color='grey', lw=0.5)\n",
    "ax2.axvline(0, color='grey', lw=0.5)\n",
    "\n",
    "plt.tight_layout() \n",
    "\n"
   ]
  }
 ],
 "metadata": {
  "kernelspec": {
   "display_name": "Python 3",
   "language": "python",
   "name": "python3"
  },
  "language_info": {
   "codemirror_mode": {
    "name": "ipython",
    "version": 3
   },
   "file_extension": ".py",
   "mimetype": "text/x-python",
   "name": "python",
   "nbconvert_exporter": "python",
   "pygments_lexer": "ipython3",
   "version": "3.11.6"
  }
 },
 "nbformat": 4,
 "nbformat_minor": 2
}
