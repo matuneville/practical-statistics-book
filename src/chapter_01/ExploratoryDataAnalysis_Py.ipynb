{
 "cells": [
  {
   "cell_type": "code",
   "execution_count": 338,
   "metadata": {},
   "outputs": [],
   "source": [
    "import pandas as pd\n",
    "import matplotlib.pyplot as plt\n",
    "import scipy\n",
    "import sqlite3\n",
    "\n",
    "# connect to SQLite database\n",
    "conn = sqlite3.connect('snic_provincias.db')\n"
   ]
  },
  {
   "cell_type": "code",
   "execution_count": 339,
   "metadata": {},
   "outputs": [
    {
     "data": {
      "text/html": [
       "<div>\n",
       "<style scoped>\n",
       "    .dataframe tbody tr th:only-of-type {\n",
       "        vertical-align: middle;\n",
       "    }\n",
       "\n",
       "    .dataframe tbody tr th {\n",
       "        vertical-align: top;\n",
       "    }\n",
       "\n",
       "    .dataframe thead th {\n",
       "        text-align: right;\n",
       "    }\n",
       "</style>\n",
       "<table border=\"1\" class=\"dataframe\">\n",
       "  <thead>\n",
       "    <tr style=\"text-align: right;\">\n",
       "      <th></th>\n",
       "      <th>Provincia</th>\n",
       "      <th>Año</th>\n",
       "      <th>Tipo</th>\n",
       "      <th>Victimas</th>\n",
       "      <th>Tasa</th>\n",
       "    </tr>\n",
       "  </thead>\n",
       "  <tbody>\n",
       "    <tr>\n",
       "      <th>0</th>\n",
       "      <td>Santa Fe</td>\n",
       "      <td>2022</td>\n",
       "      <td>Homicidios dolosos</td>\n",
       "      <td>409</td>\n",
       "      <td>11.392761</td>\n",
       "    </tr>\n",
       "    <tr>\n",
       "      <th>1</th>\n",
       "      <td>Chubut</td>\n",
       "      <td>2022</td>\n",
       "      <td>Homicidios dolosos</td>\n",
       "      <td>36</td>\n",
       "      <td>5.631212</td>\n",
       "    </tr>\n",
       "    <tr>\n",
       "      <th>2</th>\n",
       "      <td>Misiones</td>\n",
       "      <td>2022</td>\n",
       "      <td>Homicidios dolosos</td>\n",
       "      <td>71</td>\n",
       "      <td>5.510386</td>\n",
       "    </tr>\n",
       "    <tr>\n",
       "      <th>3</th>\n",
       "      <td>Neuquén</td>\n",
       "      <td>2022</td>\n",
       "      <td>Homicidios dolosos</td>\n",
       "      <td>36</td>\n",
       "      <td>5.288471</td>\n",
       "    </tr>\n",
       "    <tr>\n",
       "      <th>4</th>\n",
       "      <td>Formosa</td>\n",
       "      <td>2022</td>\n",
       "      <td>Homicidios dolosos</td>\n",
       "      <td>31</td>\n",
       "      <td>5.043061</td>\n",
       "    </tr>\n",
       "    <tr>\n",
       "      <th>5</th>\n",
       "      <td>Tucumán</td>\n",
       "      <td>2022</td>\n",
       "      <td>Homicidios dolosos</td>\n",
       "      <td>82</td>\n",
       "      <td>4.728629</td>\n",
       "    </tr>\n",
       "    <tr>\n",
       "      <th>6</th>\n",
       "      <td>Buenos Aires</td>\n",
       "      <td>2022</td>\n",
       "      <td>Homicidios dolosos</td>\n",
       "      <td>740</td>\n",
       "      <td>4.139688</td>\n",
       "    </tr>\n",
       "    <tr>\n",
       "      <th>7</th>\n",
       "      <td>Chaco</td>\n",
       "      <td>2022</td>\n",
       "      <td>Homicidios dolosos</td>\n",
       "      <td>49</td>\n",
       "      <td>3.991086</td>\n",
       "    </tr>\n",
       "    <tr>\n",
       "      <th>8</th>\n",
       "      <td>Santa Cruz</td>\n",
       "      <td>2022</td>\n",
       "      <td>Homicidios dolosos</td>\n",
       "      <td>14</td>\n",
       "      <td>3.647477</td>\n",
       "    </tr>\n",
       "    <tr>\n",
       "      <th>9</th>\n",
       "      <td>Salta</td>\n",
       "      <td>2022</td>\n",
       "      <td>Homicidios dolosos</td>\n",
       "      <td>53</td>\n",
       "      <td>3.631684</td>\n",
       "    </tr>\n",
       "    <tr>\n",
       "      <th>10</th>\n",
       "      <td>Santiago del Estero</td>\n",
       "      <td>2022</td>\n",
       "      <td>Homicidios dolosos</td>\n",
       "      <td>34</td>\n",
       "      <td>3.406496</td>\n",
       "    </tr>\n",
       "    <tr>\n",
       "      <th>11</th>\n",
       "      <td>Mendoza</td>\n",
       "      <td>2022</td>\n",
       "      <td>Homicidios dolosos</td>\n",
       "      <td>69</td>\n",
       "      <td>3.398913</td>\n",
       "    </tr>\n",
       "    <tr>\n",
       "      <th>12</th>\n",
       "      <td>San Luis</td>\n",
       "      <td>2022</td>\n",
       "      <td>Homicidios dolosos</td>\n",
       "      <td>16</td>\n",
       "      <td>3.071931</td>\n",
       "    </tr>\n",
       "    <tr>\n",
       "      <th>13</th>\n",
       "      <td>CABA</td>\n",
       "      <td>2022</td>\n",
       "      <td>Homicidios dolosos</td>\n",
       "      <td>89</td>\n",
       "      <td>2.888157</td>\n",
       "    </tr>\n",
       "    <tr>\n",
       "      <th>14</th>\n",
       "      <td>Tierra del Fuego</td>\n",
       "      <td>2022</td>\n",
       "      <td>Homicidios dolosos</td>\n",
       "      <td>5</td>\n",
       "      <td>2.747510</td>\n",
       "    </tr>\n",
       "    <tr>\n",
       "      <th>15</th>\n",
       "      <td>Río Negro</td>\n",
       "      <td>2022</td>\n",
       "      <td>Homicidios dolosos</td>\n",
       "      <td>20</td>\n",
       "      <td>2.609647</td>\n",
       "    </tr>\n",
       "    <tr>\n",
       "      <th>16</th>\n",
       "      <td>Córdoba</td>\n",
       "      <td>2022</td>\n",
       "      <td>Homicidios dolosos</td>\n",
       "      <td>99</td>\n",
       "      <td>2.580990</td>\n",
       "    </tr>\n",
       "    <tr>\n",
       "      <th>17</th>\n",
       "      <td>Jujuy</td>\n",
       "      <td>2022</td>\n",
       "      <td>Homicidios dolosos</td>\n",
       "      <td>19</td>\n",
       "      <td>2.412895</td>\n",
       "    </tr>\n",
       "    <tr>\n",
       "      <th>18</th>\n",
       "      <td>Entre Ríos</td>\n",
       "      <td>2022</td>\n",
       "      <td>Homicidios dolosos</td>\n",
       "      <td>32</td>\n",
       "      <td>2.268043</td>\n",
       "    </tr>\n",
       "    <tr>\n",
       "      <th>19</th>\n",
       "      <td>La Pampa</td>\n",
       "      <td>2022</td>\n",
       "      <td>Homicidios dolosos</td>\n",
       "      <td>8</td>\n",
       "      <td>2.195860</td>\n",
       "    </tr>\n",
       "    <tr>\n",
       "      <th>20</th>\n",
       "      <td>Corrientes</td>\n",
       "      <td>2022</td>\n",
       "      <td>Homicidios dolosos</td>\n",
       "      <td>25</td>\n",
       "      <td>2.193744</td>\n",
       "    </tr>\n",
       "    <tr>\n",
       "      <th>21</th>\n",
       "      <td>Catamarca</td>\n",
       "      <td>2022</td>\n",
       "      <td>Homicidios dolosos</td>\n",
       "      <td>9</td>\n",
       "      <td>2.130299</td>\n",
       "    </tr>\n",
       "    <tr>\n",
       "      <th>22</th>\n",
       "      <td>La Rioja</td>\n",
       "      <td>2022</td>\n",
       "      <td>Homicidios dolosos</td>\n",
       "      <td>6</td>\n",
       "      <td>1.486153</td>\n",
       "    </tr>\n",
       "    <tr>\n",
       "      <th>23</th>\n",
       "      <td>San Juan</td>\n",
       "      <td>2022</td>\n",
       "      <td>Homicidios dolosos</td>\n",
       "      <td>9</td>\n",
       "      <td>1.128248</td>\n",
       "    </tr>\n",
       "  </tbody>\n",
       "</table>\n",
       "</div>"
      ],
      "text/plain": [
       "              Provincia   Año                Tipo  Victimas       Tasa\n",
       "0              Santa Fe  2022  Homicidios dolosos       409  11.392761\n",
       "1                Chubut  2022  Homicidios dolosos        36   5.631212\n",
       "2              Misiones  2022  Homicidios dolosos        71   5.510386\n",
       "3               Neuquén  2022  Homicidios dolosos        36   5.288471\n",
       "4               Formosa  2022  Homicidios dolosos        31   5.043061\n",
       "5               Tucumán  2022  Homicidios dolosos        82   4.728629\n",
       "6          Buenos Aires  2022  Homicidios dolosos       740   4.139688\n",
       "7                 Chaco  2022  Homicidios dolosos        49   3.991086\n",
       "8            Santa Cruz  2022  Homicidios dolosos        14   3.647477\n",
       "9                 Salta  2022  Homicidios dolosos        53   3.631684\n",
       "10  Santiago del Estero  2022  Homicidios dolosos        34   3.406496\n",
       "11              Mendoza  2022  Homicidios dolosos        69   3.398913\n",
       "12             San Luis  2022  Homicidios dolosos        16   3.071931\n",
       "13                 CABA  2022  Homicidios dolosos        89   2.888157\n",
       "14     Tierra del Fuego  2022  Homicidios dolosos         5   2.747510\n",
       "15            Río Negro  2022  Homicidios dolosos        20   2.609647\n",
       "16              Córdoba  2022  Homicidios dolosos        99   2.580990\n",
       "17                Jujuy  2022  Homicidios dolosos        19   2.412895\n",
       "18           Entre Ríos  2022  Homicidios dolosos        32   2.268043\n",
       "19             La Pampa  2022  Homicidios dolosos         8   2.195860\n",
       "20           Corrientes  2022  Homicidios dolosos        25   2.193744\n",
       "21            Catamarca  2022  Homicidios dolosos         9   2.130299\n",
       "22             La Rioja  2022  Homicidios dolosos         6   1.486153\n",
       "23             San Juan  2022  Homicidios dolosos         9   1.128248"
      ]
     },
     "execution_count": 339,
     "metadata": {},
     "output_type": "execute_result"
    }
   ],
   "source": [
    "# query the database with type wanted\n",
    "query = \"\"\"\n",
    "    SELECT provincia_nombre AS Provincia, anio AS Año, codigo_delito_snic_nombre AS Tipo,\n",
    "        cantidad_victimas AS Victimas, tasa_victimas AS Tasa\n",
    "    FROM prov_stats\n",
    "    WHERE Año = 2022 AND Tipo = 'Homicidios dolosos'\n",
    "    ORDER BY Tasa DESC\n",
    "    \"\"\"\n",
    "\n",
    "df = pd.read_sql_query(query, conn)\n",
    "df"
   ]
  },
  {
   "cell_type": "markdown",
   "metadata": {},
   "source": [
    "### Estimates of Location: key ideas\n",
    "- The basic metric for location is the mean, but it can be sensitive to extreme\n",
    "values (outlier).\n",
    "- Other metrics (median, trimmed mean) are less sensitive to outliers and unusual\n",
    "distributions and hence are more robust."
   ]
  },
  {
   "cell_type": "code",
   "execution_count": 340,
   "metadata": {},
   "outputs": [
    {
     "data": {
      "text/plain": [
       "3.6468058041666667"
      ]
     },
     "execution_count": 340,
     "metadata": {},
     "output_type": "execute_result"
    }
   ],
   "source": [
    "# Intentional homicide rate Mean\n",
    "df['Tasa'].mean()"
   ]
  },
  {
   "cell_type": "code",
   "execution_count": 341,
   "metadata": {},
   "outputs": [
    {
     "data": {
      "text/plain": [
       "3.2354219"
      ]
     },
     "execution_count": 341,
     "metadata": {},
     "output_type": "execute_result"
    }
   ],
   "source": [
    "# Intentional homicide rate Median\n",
    "df['Tasa'].median()"
   ]
  },
  {
   "cell_type": "code",
   "execution_count": 342,
   "metadata": {},
   "outputs": [
    {
     "data": {
      "text/plain": [
       "3.3942482849999998"
      ]
     },
     "execution_count": 342,
     "metadata": {},
     "output_type": "execute_result"
    }
   ],
   "source": [
    "# Intentional homicide rate Trimmed Mean\n",
    "# good idea to exclude the Santa Fe outlier\n",
    "scipy.stats.trim_mean(df['Tasa'], 0.1)"
   ]
  },
  {
   "cell_type": "markdown",
   "metadata": {},
   "source": [
    "### Estimates of Variability: key ideas\n",
    "- Variance and standard deviation are the most widespread and routinely reported\n",
    "statistics of variability.\n",
    "- Both are sensitive to outliers.\n",
    "- More robust metrics include mean absolute deviation, median absolute deviation\n",
    "from the median, and percentiles (quantiles)."
   ]
  },
  {
   "cell_type": "code",
   "execution_count": 343,
   "metadata": {},
   "outputs": [
    {
     "data": {
      "text/plain": [
       "2.070332627249644"
      ]
     },
     "execution_count": 343,
     "metadata": {},
     "output_type": "execute_result"
    }
   ],
   "source": [
    "# Intentional homicide rate Standard Deviation\n",
    "df['Tasa'].std()\n",
    "# variance is the same squared"
   ]
  },
  {
   "cell_type": "code",
   "execution_count": 344,
   "metadata": {},
   "outputs": [
    {
     "data": {
      "text/plain": [
       "1.9102415249999996"
      ]
     },
     "execution_count": 344,
     "metadata": {},
     "output_type": "execute_result"
    }
   ],
   "source": [
    "# Intentional homicide rate IQR\n",
    "# it is not sensitive to the Santa Fe outlier so its smaller than STD\n",
    "df['Tasa'].quantile(0.75) - df['Tasa'].quantile(0.25) \n",
    "# the MAD is calculated in R"
   ]
  },
  {
   "cell_type": "markdown",
   "metadata": {},
   "source": [
    "### Data distribution: key ideas\n",
    "- A frequency histogram plots frequency counts on the y-axis and variable values on the x-axis; it gives a sense of the distribution of the data at a glance.\n",
    "- A frequency table is a tabular version of the frequency counts found in a histogram.\n",
    "- A boxplot—with the top and bottom of the box at the 75th and 25th percentiles, respectively—also gives a quick sense of the distribution of the data; it is often used in side-by-side displays to compare distributions.\n",
    "- A density plot is a smoothed version of a histogram; it requires a function to estimate a plot based on the data (multiple estimates are possible, of course)."
   ]
  },
  {
   "cell_type": "code",
   "execution_count": 345,
   "metadata": {},
   "outputs": [
    {
     "data": {
      "text/html": [
       "<div>\n",
       "<style scoped>\n",
       "    .dataframe tbody tr th:only-of-type {\n",
       "        vertical-align: middle;\n",
       "    }\n",
       "\n",
       "    .dataframe tbody tr th {\n",
       "        vertical-align: top;\n",
       "    }\n",
       "\n",
       "    .dataframe thead th {\n",
       "        text-align: right;\n",
       "    }\n",
       "</style>\n",
       "<table border=\"1\" class=\"dataframe\">\n",
       "  <thead>\n",
       "    <tr style=\"text-align: right;\">\n",
       "      <th></th>\n",
       "      <th>0.05</th>\n",
       "      <th>0.25</th>\n",
       "      <th>0.50</th>\n",
       "      <th>0.75</th>\n",
       "      <th>0.95</th>\n",
       "    </tr>\n",
       "  </thead>\n",
       "  <tbody>\n",
       "    <tr>\n",
       "      <th>Tasa</th>\n",
       "      <td>1.582775</td>\n",
       "      <td>2.376682</td>\n",
       "      <td>3.235422</td>\n",
       "      <td>4.286923</td>\n",
       "      <td>5.613088</td>\n",
       "    </tr>\n",
       "  </tbody>\n",
       "</table>\n",
       "</div>"
      ],
      "text/plain": [
       "          0.05      0.25      0.50      0.75      0.95\n",
       "Tasa  1.582775  2.376682  3.235422  4.286923  5.613088"
      ]
     },
     "execution_count": 345,
     "metadata": {},
     "output_type": "execute_result"
    }
   ],
   "source": [
    "# Percentiles / quantiles\n",
    "quantiles = df['Tasa'].quantile([0.05, 0.25, 0.5, 0.75, 0.95])\n",
    "quantiles.to_frame().transpose()"
   ]
  },
  {
   "cell_type": "code",
   "execution_count": 346,
   "metadata": {},
   "outputs": [
    {
     "data": {
      "text/plain": [
       "Text(0, 0.5, 'Intentional homicide rate')"
      ]
     },
     "execution_count": 346,
     "metadata": {},
     "output_type": "execute_result"
    },
    {
     "data": {
      "image/png": "[encoded data removed]",
      "text/plain": [
       "<Figure size 500x300 with 1 Axes>"
      ]
     },
     "metadata": {},
     "output_type": "display_data"
    }
   ],
   "source": [
    "# homicide rate Boxplot\n",
    "ax = (df['Tasa']).plot.box(figsize=(5,3))\n",
    "ax.grid(True, linewidth=\"0.4\", color=\"black\", linestyle=\"--\")\n",
    "ax.set_ylabel('Intentional homicide rate')"
   ]
  },
  {
   "cell_type": "markdown",
   "metadata": {},
   "source": [
    "The _whiskers_ will not go beyond 1.5 times the IQR. The green line is the median, the top and bottom of the box are the .25 and .75 quantiles. The dot from upside is the Santa Fe outlier."
   ]
  },
  {
   "cell_type": "code",
   "execution_count": 347,
   "metadata": {},
   "outputs": [
    {
     "data": {
      "text/html": [
       "<div>\n",
       "<style scoped>\n",
       "    .dataframe tbody tr th:only-of-type {\n",
       "        vertical-align: middle;\n",
       "    }\n",
       "\n",
       "    .dataframe tbody tr th {\n",
       "        vertical-align: top;\n",
       "    }\n",
       "\n",
       "    .dataframe thead th {\n",
       "        text-align: right;\n",
       "    }\n",
       "</style>\n",
       "<table border=\"1\" class=\"dataframe\">\n",
       "  <thead>\n",
       "    <tr style=\"text-align: right;\">\n",
       "      <th>Tasa</th>\n",
       "      <th>(1.118, 3.181]</th>\n",
       "      <th>(3.181, 5.234]</th>\n",
       "      <th>(5.234, 7.287]</th>\n",
       "      <th>(7.287, 9.34]</th>\n",
       "      <th>(9.34, 11.393]</th>\n",
       "    </tr>\n",
       "  </thead>\n",
       "  <tbody>\n",
       "    <tr>\n",
       "      <th>count</th>\n",
       "      <td>12</td>\n",
       "      <td>8</td>\n",
       "      <td>3</td>\n",
       "      <td>0</td>\n",
       "      <td>1</td>\n",
       "    </tr>\n",
       "  </tbody>\n",
       "</table>\n",
       "</div>"
      ],
      "text/plain": [
       "Tasa   (1.118, 3.181]  (3.181, 5.234]  (5.234, 7.287]  (7.287, 9.34]  \\\n",
       "count              12               8               3              0   \n",
       "\n",
       "Tasa   (9.34, 11.393]  \n",
       "count               1  "
      ]
     },
     "execution_count": 347,
     "metadata": {},
     "output_type": "execute_result"
    }
   ],
   "source": [
    "# homicide rate Frecuency table\n",
    "freq = pd.cut(df['Tasa'], 5).value_counts() # divide it into 5 equal size segments\n",
    "freq.to_frame().transpose().sort_index(axis=1)"
   ]
  },
  {
   "cell_type": "code",
   "execution_count": 348,
   "metadata": {},
   "outputs": [
    {
     "data": {
      "text/plain": [
       "Text(0.5, 0, 'Intentional homicide rate')"
      ]
     },
     "execution_count": 348,
     "metadata": {},
     "output_type": "execute_result"
    },
    {
     "data": {
      "image/png": "[encoded data removed]",
      "text/plain": [
       "<Figure size 500x300 with 1 Axes>"
      ]
     },
     "metadata": {},
     "output_type": "display_data"
    }
   ],
   "source": [
    "# homicide rate Histogram, showing the frecuency of each interval value\n",
    "ax = (df['Tasa']).plot.hist(figsize=(5,3), bins=15,\n",
    "                            color=\"lightgray\", edgecolor=\"black\")\n",
    "ax.grid(True, linewidth=\"0.4\", color=\"black\", linestyle=\"--\")\n",
    "ax.set_xlabel(\"Intentional homicide rate\")"
   ]
  },
  {
   "cell_type": "code",
   "execution_count": 349,
   "metadata": {},
   "outputs": [
    {
     "data": {
      "text/plain": [
       "Text(0.5, 0, 'Intentional homicide rate')"
      ]
     },
     "execution_count": 349,
     "metadata": {},
     "output_type": "execute_result"
    },
    {
     "data": {
      "image/png": "[encoded data removed]",
      "text/plain": [
       "<Figure size 500x300 with 1 Axes>"
      ]
     },
     "metadata": {},
     "output_type": "display_data"
    }
   ],
   "source": [
    "# homicide rate Density plot\n",
    "ax = (df['Tasa']).plot.hist(density=True, figsize=(5,3), bins=15, \n",
    "                            color=\"lightgray\", edgecolor=\"black\", alpha=0.5)\n",
    "(df['Tasa']).plot.density(ax=ax, color=\"red\")\n",
    "ax.grid(True, linewidth=\"0.4\", color=\"black\", linestyle=\"--\")\n",
    "ax.set_xlabel(\"Intentional homicide rate\")"
   ]
  },
  {
   "cell_type": "markdown",
   "metadata": {},
   "source": [
    "### Binary and Categorical Data: key ideas\n",
    "- Categorical data is typically summed up in proportions and can be visualized in a bar chart.\n",
    "- Categories might represent distinct things (different crime categories, male and female, etc), levels of a factor variable (low, medium, and high), or numeric data that has been binned.\n",
    "- Expected value is the sum of values times their probability of occurrence, often used to sum up factor variable levels"
   ]
  },
  {
   "cell_type": "code",
   "execution_count": 350,
   "metadata": {},
   "outputs": [
    {
     "data": {
      "text/html": [
       "<div>\n",
       "<style scoped>\n",
       "    .dataframe tbody tr th:only-of-type {\n",
       "        vertical-align: middle;\n",
       "    }\n",
       "\n",
       "    .dataframe tbody tr th {\n",
       "        vertical-align: top;\n",
       "    }\n",
       "\n",
       "    .dataframe thead th {\n",
       "        text-align: right;\n",
       "    }\n",
       "</style>\n",
       "<table border=\"1\" class=\"dataframe\">\n",
       "  <thead>\n",
       "    <tr style=\"text-align: right;\">\n",
       "      <th></th>\n",
       "      <th>Provincia</th>\n",
       "      <th>Año</th>\n",
       "      <th>Tipo</th>\n",
       "      <th>Hechos</th>\n",
       "    </tr>\n",
       "  </thead>\n",
       "  <tbody>\n",
       "    <tr>\n",
       "      <th>0</th>\n",
       "      <td>CABA</td>\n",
       "      <td>2022</td>\n",
       "      <td>Delitos contra el honor</td>\n",
       "      <td>40</td>\n",
       "    </tr>\n",
       "    <tr>\n",
       "      <th>1</th>\n",
       "      <td>CABA</td>\n",
       "      <td>2022</td>\n",
       "      <td>Delitos contra el estado civil</td>\n",
       "      <td>1</td>\n",
       "    </tr>\n",
       "    <tr>\n",
       "      <th>2</th>\n",
       "      <td>CABA</td>\n",
       "      <td>2022</td>\n",
       "      <td>Delitos contra la seguridad pública</td>\n",
       "      <td>683</td>\n",
       "    </tr>\n",
       "    <tr>\n",
       "      <th>3</th>\n",
       "      <td>CABA</td>\n",
       "      <td>2022</td>\n",
       "      <td>Delitos contra el orden público</td>\n",
       "      <td>127</td>\n",
       "    </tr>\n",
       "    <tr>\n",
       "      <th>4</th>\n",
       "      <td>CABA</td>\n",
       "      <td>2022</td>\n",
       "      <td>Delitos contra la seguridad de la nación</td>\n",
       "      <td>2</td>\n",
       "    </tr>\n",
       "    <tr>\n",
       "      <th>5</th>\n",
       "      <td>CABA</td>\n",
       "      <td>2022</td>\n",
       "      <td>Delitos contra los poderes públicos y el orden...</td>\n",
       "      <td>2</td>\n",
       "    </tr>\n",
       "    <tr>\n",
       "      <th>6</th>\n",
       "      <td>CABA</td>\n",
       "      <td>2022</td>\n",
       "      <td>Delitos contra la administración pública</td>\n",
       "      <td>1916</td>\n",
       "    </tr>\n",
       "    <tr>\n",
       "      <th>7</th>\n",
       "      <td>CABA</td>\n",
       "      <td>2022</td>\n",
       "      <td>Delitos contra la fe pública</td>\n",
       "      <td>629</td>\n",
       "    </tr>\n",
       "    <tr>\n",
       "      <th>8</th>\n",
       "      <td>CABA</td>\n",
       "      <td>2022</td>\n",
       "      <td>Delitos migratorios</td>\n",
       "      <td>1</td>\n",
       "    </tr>\n",
       "    <tr>\n",
       "      <th>9</th>\n",
       "      <td>CABA</td>\n",
       "      <td>2022</td>\n",
       "      <td>Delitos contra el orden económico y financiero</td>\n",
       "      <td>44</td>\n",
       "    </tr>\n",
       "  </tbody>\n",
       "</table>\n",
       "</div>"
      ],
      "text/plain": [
       "  Provincia   Año                                               Tipo  Hechos\n",
       "0      CABA  2022                            Delitos contra el honor      40\n",
       "1      CABA  2022                     Delitos contra el estado civil       1\n",
       "2      CABA  2022                Delitos contra la seguridad pública     683\n",
       "3      CABA  2022                    Delitos contra el orden público     127\n",
       "4      CABA  2022           Delitos contra la seguridad de la nación       2\n",
       "5      CABA  2022  Delitos contra los poderes públicos y el orden...       2\n",
       "6      CABA  2022           Delitos contra la administración pública    1916\n",
       "7      CABA  2022                       Delitos contra la fe pública     629\n",
       "8      CABA  2022                                Delitos migratorios       1\n",
       "9      CABA  2022     Delitos contra el orden económico y financiero      44"
      ]
     },
     "execution_count": 350,
     "metadata": {},
     "output_type": "execute_result"
    }
   ],
   "source": [
    "# Select all the crimes categories from CABA\n",
    "query = \"\"\"\n",
    "    SELECT provincia_nombre AS Provincia, anio AS Año, codigo_delito_snic_nombre AS Tipo,\n",
    "        cantidad_hechos AS Hechos\n",
    "    FROM prov_stats\n",
    "    WHERE Año = 2022 AND Tipo LIKE 'Delitos%' AND Provincia = 'CABA'\n",
    "    \"\"\"\n",
    "\n",
    "df = pd.read_sql_query(query, conn)\n",
    "df"
   ]
  },
  {
   "cell_type": "code",
   "execution_count": 351,
   "metadata": {},
   "outputs": [
    {
     "data": {
      "text/plain": [
       "Text(0, 0.5, 'Cantidad de hechos')"
      ]
     },
     "execution_count": 351,
     "metadata": {},
     "output_type": "execute_result"
    },
    {
     "data": {
      "image/png": "[encoded data removed]",
      "text/plain": [
       "<Figure size 500x300 with 1 Axes>"
      ]
     },
     "metadata": {},
     "output_type": "display_data"
    }
   ],
   "source": [
    "# Crime category bar chart\n",
    "ax = df['Hechos'].plot.bar(figsize=(5,3), color=\"lightgray\", edgecolor=\"black\")\n",
    "ax.grid(True)\n",
    "ax.set_xlabel('Categoría de delito por ID')\n",
    "ax.set_ylabel('Cantidad de hechos')\n",
    "\n",
    "# the Mode here is the number 6"
   ]
  },
  {
   "cell_type": "code",
   "execution_count": 352,
   "metadata": {},
   "outputs": [
    {
     "data": {
      "text/html": [
       "<div>\n",
       "<style scoped>\n",
       "    .dataframe tbody tr th:only-of-type {\n",
       "        vertical-align: middle;\n",
       "    }\n",
       "\n",
       "    .dataframe tbody tr th {\n",
       "        vertical-align: top;\n",
       "    }\n",
       "\n",
       "    .dataframe thead th {\n",
       "        text-align: right;\n",
       "    }\n",
       "</style>\n",
       "<table border=\"1\" class=\"dataframe\">\n",
       "  <thead>\n",
       "    <tr style=\"text-align: right;\">\n",
       "      <th></th>\n",
       "      <th>0</th>\n",
       "      <th>1</th>\n",
       "      <th>2</th>\n",
       "      <th>3</th>\n",
       "      <th>4</th>\n",
       "      <th>5</th>\n",
       "      <th>6</th>\n",
       "      <th>7</th>\n",
       "      <th>8</th>\n",
       "      <th>9</th>\n",
       "    </tr>\n",
       "  </thead>\n",
       "  <tbody>\n",
       "    <tr>\n",
       "      <th>Probability</th>\n",
       "      <td>0.011611</td>\n",
       "      <td>0.00029</td>\n",
       "      <td>0.198258</td>\n",
       "      <td>0.036865</td>\n",
       "      <td>0.000581</td>\n",
       "      <td>0.000581</td>\n",
       "      <td>0.556168</td>\n",
       "      <td>0.182583</td>\n",
       "      <td>0.00029</td>\n",
       "      <td>0.012772</td>\n",
       "    </tr>\n",
       "  </tbody>\n",
       "</table>\n",
       "</div>"
      ],
      "text/plain": [
       "                    0        1         2         3         4         5  \\\n",
       "Probability  0.011611  0.00029  0.198258  0.036865  0.000581  0.000581   \n",
       "\n",
       "                    6         7        8         9  \n",
       "Probability  0.556168  0.182583  0.00029  0.012772  "
      ]
     },
     "execution_count": 352,
     "metadata": {},
     "output_type": "execute_result"
    }
   ],
   "source": [
    "# Probabilities\n",
    "prob = df['Hechos'] / sum(df['Hechos'])\n",
    "prob.name = 'Probability'\n",
    "prob.to_frame().transpose()"
   ]
  },
  {
   "cell_type": "code",
   "execution_count": 353,
   "metadata": {},
   "outputs": [
    {
     "data": {
      "text/plain": [
       "1321.5851959361391"
      ]
     },
     "execution_count": 353,
     "metadata": {},
     "output_type": "execute_result"
    }
   ],
   "source": [
    "# Expected value\n",
    "sum(prob * df['Hechos'])"
   ]
  },
  {
   "cell_type": "markdown",
   "metadata": {},
   "source": [
    "### Correlation"
   ]
  },
  {
   "cell_type": "code",
   "execution_count": 354,
   "metadata": {},
   "outputs": [
    {
     "data": {
      "text/html": [
       "<div>\n",
       "<style scoped>\n",
       "    .dataframe tbody tr th:only-of-type {\n",
       "        vertical-align: middle;\n",
       "    }\n",
       "\n",
       "    .dataframe tbody tr th {\n",
       "        vertical-align: top;\n",
       "    }\n",
       "\n",
       "    .dataframe thead th {\n",
       "        text-align: right;\n",
       "    }\n",
       "</style>\n",
       "<table border=\"1\" class=\"dataframe\">\n",
       "  <thead>\n",
       "    <tr style=\"text-align: right;\">\n",
       "      <th></th>\n",
       "      <th>T</th>\n",
       "      <th>CTL</th>\n",
       "      <th>FTR</th>\n",
       "      <th>VZ</th>\n",
       "      <th>LVLT</th>\n",
       "    </tr>\n",
       "  </thead>\n",
       "  <tbody>\n",
       "    <tr>\n",
       "      <th>2012-07-02</th>\n",
       "      <td>0.422496</td>\n",
       "      <td>0.140847</td>\n",
       "      <td>0.070879</td>\n",
       "      <td>0.554180</td>\n",
       "      <td>-0.519998</td>\n",
       "    </tr>\n",
       "    <tr>\n",
       "      <th>2012-07-03</th>\n",
       "      <td>-0.177448</td>\n",
       "      <td>0.066280</td>\n",
       "      <td>0.070879</td>\n",
       "      <td>-0.025976</td>\n",
       "      <td>-0.049999</td>\n",
       "    </tr>\n",
       "    <tr>\n",
       "      <th>2012-07-05</th>\n",
       "      <td>-0.160548</td>\n",
       "      <td>-0.132563</td>\n",
       "      <td>0.055128</td>\n",
       "      <td>-0.051956</td>\n",
       "      <td>-0.180000</td>\n",
       "    </tr>\n",
       "    <tr>\n",
       "      <th>2012-07-06</th>\n",
       "      <td>0.342205</td>\n",
       "      <td>0.132563</td>\n",
       "      <td>0.007875</td>\n",
       "      <td>0.140106</td>\n",
       "      <td>-0.359999</td>\n",
       "    </tr>\n",
       "    <tr>\n",
       "      <th>2012-07-09</th>\n",
       "      <td>0.136883</td>\n",
       "      <td>0.124279</td>\n",
       "      <td>-0.023626</td>\n",
       "      <td>0.253943</td>\n",
       "      <td>0.180000</td>\n",
       "    </tr>\n",
       "    <tr>\n",
       "      <th>...</th>\n",
       "      <td>...</td>\n",
       "      <td>...</td>\n",
       "      <td>...</td>\n",
       "      <td>...</td>\n",
       "      <td>...</td>\n",
       "    </tr>\n",
       "    <tr>\n",
       "      <th>2015-06-25</th>\n",
       "      <td>0.049342</td>\n",
       "      <td>-1.600000</td>\n",
       "      <td>-0.040000</td>\n",
       "      <td>-0.187790</td>\n",
       "      <td>-0.330002</td>\n",
       "    </tr>\n",
       "    <tr>\n",
       "      <th>2015-06-26</th>\n",
       "      <td>-0.256586</td>\n",
       "      <td>0.039999</td>\n",
       "      <td>-0.070000</td>\n",
       "      <td>0.029650</td>\n",
       "      <td>-0.739998</td>\n",
       "    </tr>\n",
       "    <tr>\n",
       "      <th>2015-06-29</th>\n",
       "      <td>-0.098685</td>\n",
       "      <td>-0.559999</td>\n",
       "      <td>-0.060000</td>\n",
       "      <td>-0.504063</td>\n",
       "      <td>-1.360000</td>\n",
       "    </tr>\n",
       "    <tr>\n",
       "      <th>2015-06-30</th>\n",
       "      <td>-0.503298</td>\n",
       "      <td>-0.420000</td>\n",
       "      <td>-0.070000</td>\n",
       "      <td>-0.523829</td>\n",
       "      <td>0.199997</td>\n",
       "    </tr>\n",
       "    <tr>\n",
       "      <th>2015-07-01</th>\n",
       "      <td>-0.019737</td>\n",
       "      <td>0.080000</td>\n",
       "      <td>-0.050000</td>\n",
       "      <td>0.355811</td>\n",
       "      <td>0.139999</td>\n",
       "    </tr>\n",
       "  </tbody>\n",
       "</table>\n",
       "<p>754 rows × 5 columns</p>\n",
       "</div>"
      ],
      "text/plain": [
       "                   T       CTL       FTR        VZ      LVLT\n",
       "2012-07-02  0.422496  0.140847  0.070879  0.554180 -0.519998\n",
       "2012-07-03 -0.177448  0.066280  0.070879 -0.025976 -0.049999\n",
       "2012-07-05 -0.160548 -0.132563  0.055128 -0.051956 -0.180000\n",
       "2012-07-06  0.342205  0.132563  0.007875  0.140106 -0.359999\n",
       "2012-07-09  0.136883  0.124279 -0.023626  0.253943  0.180000\n",
       "...              ...       ...       ...       ...       ...\n",
       "2015-06-25  0.049342 -1.600000 -0.040000 -0.187790 -0.330002\n",
       "2015-06-26 -0.256586  0.039999 -0.070000  0.029650 -0.739998\n",
       "2015-06-29 -0.098685 -0.559999 -0.060000 -0.504063 -1.360000\n",
       "2015-06-30 -0.503298 -0.420000 -0.070000 -0.523829  0.199997\n",
       "2015-07-01 -0.019737  0.080000 -0.050000  0.355811  0.139999\n",
       "\n",
       "[754 rows x 5 columns]"
      ]
     },
     "execution_count": 354,
     "metadata": {},
     "output_type": "execute_result"
    }
   ],
   "source": [
    "import seaborn as sns\n",
    "\n",
    "sp500_sym = pd.read_csv('sp500_sectors.csv')\n",
    "sp500_px = pd.read_csv('sp500_data.csv', index_col=0)\n",
    "\n",
    "# take telecommunications symbols\n",
    "telecomSymbols = sp500_sym[sp500_sym['sector'] == 'telecommunications_services']['symbol']\n",
    "# Filter data for dates July 2012 through June 2015\n",
    "telecom = sp500_px.loc[sp500_px.index >= '2012-07-01', telecomSymbols]\n",
    "\n",
    "telecom.corr()\n",
    "telecom"
   ]
  },
  {
   "cell_type": "code",
   "execution_count": 355,
   "metadata": {},
   "outputs": [
    {
     "data": {
      "text/html": [
       "<div>\n",
       "<style scoped>\n",
       "    .dataframe tbody tr th:only-of-type {\n",
       "        vertical-align: middle;\n",
       "    }\n",
       "\n",
       "    .dataframe tbody tr th {\n",
       "        vertical-align: top;\n",
       "    }\n",
       "\n",
       "    .dataframe thead th {\n",
       "        text-align: right;\n",
       "    }\n",
       "</style>\n",
       "<table border=\"1\" class=\"dataframe\">\n",
       "  <thead>\n",
       "    <tr style=\"text-align: right;\">\n",
       "      <th></th>\n",
       "      <th>XLI</th>\n",
       "      <th>QQQ</th>\n",
       "      <th>SPY</th>\n",
       "      <th>DIA</th>\n",
       "      <th>GLD</th>\n",
       "      <th>VXX</th>\n",
       "      <th>USO</th>\n",
       "      <th>IWM</th>\n",
       "      <th>XLE</th>\n",
       "      <th>XLY</th>\n",
       "      <th>XLU</th>\n",
       "      <th>XLB</th>\n",
       "      <th>XTL</th>\n",
       "      <th>XLV</th>\n",
       "      <th>XLP</th>\n",
       "      <th>XLF</th>\n",
       "      <th>XLK</th>\n",
       "    </tr>\n",
       "  </thead>\n",
       "  <tbody>\n",
       "    <tr>\n",
       "      <th>2012-07-02</th>\n",
       "      <td>-0.376098</td>\n",
       "      <td>0.096313</td>\n",
       "      <td>0.028223</td>\n",
       "      <td>-0.242796</td>\n",
       "      <td>0.419998</td>\n",
       "      <td>-10.40</td>\n",
       "      <td>0.000000</td>\n",
       "      <td>0.534641</td>\n",
       "      <td>0.028186</td>\n",
       "      <td>0.095759</td>\n",
       "      <td>0.098311</td>\n",
       "      <td>-0.093713</td>\n",
       "      <td>0.019076</td>\n",
       "      <td>-0.009529</td>\n",
       "      <td>0.313499</td>\n",
       "      <td>0.018999</td>\n",
       "      <td>0.075668</td>\n",
       "    </tr>\n",
       "    <tr>\n",
       "      <th>2012-07-03</th>\n",
       "      <td>0.376099</td>\n",
       "      <td>0.481576</td>\n",
       "      <td>0.874936</td>\n",
       "      <td>0.728405</td>\n",
       "      <td>0.490006</td>\n",
       "      <td>-3.52</td>\n",
       "      <td>0.250000</td>\n",
       "      <td>0.926067</td>\n",
       "      <td>0.995942</td>\n",
       "      <td>0.000000</td>\n",
       "      <td>-0.044686</td>\n",
       "      <td>0.337373</td>\n",
       "      <td>0.000000</td>\n",
       "      <td>0.000000</td>\n",
       "      <td>0.129087</td>\n",
       "      <td>0.104492</td>\n",
       "      <td>0.236462</td>\n",
       "    </tr>\n",
       "    <tr>\n",
       "      <th>2012-07-05</th>\n",
       "      <td>0.150440</td>\n",
       "      <td>0.096313</td>\n",
       "      <td>-0.103487</td>\n",
       "      <td>0.149420</td>\n",
       "      <td>0.239991</td>\n",
       "      <td>6.56</td>\n",
       "      <td>-0.070000</td>\n",
       "      <td>-0.171848</td>\n",
       "      <td>-0.460387</td>\n",
       "      <td>0.306431</td>\n",
       "      <td>-0.151938</td>\n",
       "      <td>0.103086</td>\n",
       "      <td>0.019072</td>\n",
       "      <td>-0.142955</td>\n",
       "      <td>-0.073766</td>\n",
       "      <td>-0.142490</td>\n",
       "      <td>0.066211</td>\n",
       "    </tr>\n",
       "    <tr>\n",
       "      <th>2012-07-06</th>\n",
       "      <td>-0.141040</td>\n",
       "      <td>-0.491201</td>\n",
       "      <td>0.018819</td>\n",
       "      <td>-0.205449</td>\n",
       "      <td>-0.519989</td>\n",
       "      <td>-8.80</td>\n",
       "      <td>-0.180000</td>\n",
       "      <td>-0.229128</td>\n",
       "      <td>0.206706</td>\n",
       "      <td>0.153214</td>\n",
       "      <td>0.080437</td>\n",
       "      <td>0.018744</td>\n",
       "      <td>-0.429213</td>\n",
       "      <td>-0.095304</td>\n",
       "      <td>0.119865</td>\n",
       "      <td>0.066495</td>\n",
       "      <td>-0.227003</td>\n",
       "    </tr>\n",
       "    <tr>\n",
       "      <th>2012-07-09</th>\n",
       "      <td>0.244465</td>\n",
       "      <td>-0.048160</td>\n",
       "      <td>-0.056445</td>\n",
       "      <td>-0.168094</td>\n",
       "      <td>0.429992</td>\n",
       "      <td>-0.48</td>\n",
       "      <td>0.459999</td>\n",
       "      <td>-0.190939</td>\n",
       "      <td>-0.234892</td>\n",
       "      <td>-0.201098</td>\n",
       "      <td>-0.035751</td>\n",
       "      <td>-0.168687</td>\n",
       "      <td>0.000000</td>\n",
       "      <td>0.352630</td>\n",
       "      <td>-0.064548</td>\n",
       "      <td>0.018999</td>\n",
       "      <td>0.009457</td>\n",
       "    </tr>\n",
       "  </tbody>\n",
       "</table>\n",
       "</div>"
      ],
      "text/plain": [
       "                 XLI       QQQ       SPY       DIA       GLD    VXX       USO  \\\n",
       "2012-07-02 -0.376098  0.096313  0.028223 -0.242796  0.419998 -10.40  0.000000   \n",
       "2012-07-03  0.376099  0.481576  0.874936  0.728405  0.490006  -3.52  0.250000   \n",
       "2012-07-05  0.150440  0.096313 -0.103487  0.149420  0.239991   6.56 -0.070000   \n",
       "2012-07-06 -0.141040 -0.491201  0.018819 -0.205449 -0.519989  -8.80 -0.180000   \n",
       "2012-07-09  0.244465 -0.048160 -0.056445 -0.168094  0.429992  -0.48  0.459999   \n",
       "\n",
       "                 IWM       XLE       XLY       XLU       XLB       XTL  \\\n",
       "2012-07-02  0.534641  0.028186  0.095759  0.098311 -0.093713  0.019076   \n",
       "2012-07-03  0.926067  0.995942  0.000000 -0.044686  0.337373  0.000000   \n",
       "2012-07-05 -0.171848 -0.460387  0.306431 -0.151938  0.103086  0.019072   \n",
       "2012-07-06 -0.229128  0.206706  0.153214  0.080437  0.018744 -0.429213   \n",
       "2012-07-09 -0.190939 -0.234892 -0.201098 -0.035751 -0.168687  0.000000   \n",
       "\n",
       "                 XLV       XLP       XLF       XLK  \n",
       "2012-07-02 -0.009529  0.313499  0.018999  0.075668  \n",
       "2012-07-03  0.000000  0.129087  0.104492  0.236462  \n",
       "2012-07-05 -0.142955 -0.073766 -0.142490  0.066211  \n",
       "2012-07-06 -0.095304  0.119865  0.066495 -0.227003  \n",
       "2012-07-09  0.352630 -0.064548  0.018999  0.009457  "
      ]
     },
     "execution_count": 355,
     "metadata": {},
     "output_type": "execute_result"
    }
   ],
   "source": [
    "# Next we focus on funds traded on major exchanges (sector == 'etf').\n",
    "\n",
    "etfs = sp500_px.loc[sp500_px.index > '2012-07-01', \n",
    "                    sp500_sym[sp500_sym['sector'] == 'etf']['symbol']]\n",
    "etfs.head()"
   ]
  },
  {
   "cell_type": "code",
   "execution_count": 356,
   "metadata": {},
   "outputs": [
    {
     "data": {
      "image/png": "[encoded data removed]",
      "text/plain": [
       "<Figure size 500x400 with 2 Axes>"
      ]
     },
     "metadata": {},
     "output_type": "display_data"
    }
   ],
   "source": [
    "\n",
    "# Due to the large number of columns in this table, looking at the correlation matrix is cumbersome and it's more convenient to plot the correlation as a heatmap. The _seaborn_ package provides a convenient implementation for heatmaps.\n",
    "\n",
    "fig, ax = plt.subplots(figsize=(5, 4))\n",
    "ax = sns.heatmap(etfs.corr(), vmin=-1, vmax=1, \n",
    "                 cmap=sns.diverging_palette(20, 220, as_cmap=True),\n",
    "                 ax=ax)\n",
    "\n",
    "plt.tight_layout()"
   ]
  },
  {
   "cell_type": "code",
   "execution_count": null,
   "metadata": {},
   "outputs": [],
   "source": []
  }
 ],
 "metadata": {
  "kernelspec": {
   "display_name": "Python 3",
   "language": "python",
   "name": "python3"
  },
  "language_info": {
   "codemirror_mode": {
    "name": "ipython",
    "version": 3
   },
   "file_extension": ".py",
   "mimetype": "text/x-python",
   "name": "python",
   "nbconvert_exporter": "python",
   "pygments_lexer": "ipython3",
   "version": "3.11.6"
  }
 },
 "nbformat": 4,
 "nbformat_minor": 2
}
