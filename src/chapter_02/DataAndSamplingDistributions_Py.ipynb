{
 "cells": [
  {
   "cell_type": "code",
   "execution_count": 70,
   "metadata": {},
   "outputs": [],
   "source": [
    "import pandas as pd\n",
    "import seaborn as sns\n",
    "import matplotlib.pyplot as plt\n",
    "import numpy as np"
   ]
  },
  {
   "cell_type": "code",
   "execution_count": 21,
   "metadata": {},
   "outputs": [],
   "source": [
    "apt_prices_caba = pd.read_csv('data/departamentos-en-venta-2020.csv')"
   ]
  },
  {
   "cell_type": "markdown",
   "metadata": {},
   "source": [
    "## Sampling Distribution of a Statistic\n",
    "\n",
    "- The frequency distribution of a **sample statistic** tells us how that metric would turn out differently from sample to sample.\n",
    "- This sampling distribution can be estimated via the **bootstrap**, or via formulas that rely on the central limit theorem.\n",
    "- A key metric that sums up the variability of a sample statistic is its **standard error**."
   ]
  },
  {
   "cell_type": "code",
   "execution_count": 46,
   "metadata": {},
   "outputs": [],
   "source": [
    "sample_data = pd.DataFrame({ # Sample of 2000 apartment prices\n",
    "    'price': apt_prices_caba['Dolares'].sample(2000),\n",
    "    'type': 'Data'\n",
    "})\n",
    "sample_mean_5 = pd.DataFrame({ # Sample of 2000 means of 5 prices\n",
    "    'price': [apt_prices_caba['Dolares'].sample(5).mean() for _ in range(2000)],\n",
    "    'type': 'Mean of 5'\n",
    "})\n",
    "sample_mean_20 = pd.DataFrame({ # Sample of 2000 means of 20 prices\n",
    "    'price': [apt_prices_caba['Dolares'].sample(20).mean() for _ in range(2000)],\n",
    "    'type': 'Mean of 20'\n",
    "})\n",
    "sample_mean_50 = pd.DataFrame({ # Sample of 2000 means of 50 prices\n",
    "    'price': [apt_prices_caba['Dolares'].sample(50).mean() for _ in range(2000)],\n",
    "    'type': 'Mean of 50'\n",
    "})"
   ]
  },
  {
   "cell_type": "code",
   "execution_count": 68,
   "metadata": {},
   "outputs": [
    {
     "data": {
      "text/plain": [
       "<seaborn.axisgrid.FacetGrid at 0x740720945990>"
      ]
     },
     "execution_count": 68,
     "metadata": {},
     "output_type": "execute_result"
    },
    {
     "data": {
      "image/png": "[encoded data removed]",
      "text/plain": [
       "<Figure size 1000x400 with 4 Axes>"
      ]
     },
     "metadata": {},
     "output_type": "display_data"
    }
   ],
   "source": [
    "results = pd.concat([sample_data, sample_mean_5, sample_mean_20, sample_mean_50])\n",
    "g = sns.FacetGrid(results, col='type', col_wrap=2, height=2, aspect=2.5)\n",
    "g.map(plt.hist, 'price', range=[0, 6e5], bins=40, color='grey')\n",
    "g.set_axis_labels('Price of apartments', 'Count')\n",
    "g.set_titles('{col_name}')"
   ]
  },
  {
   "cell_type": "markdown",
   "metadata": {},
   "source": [
    "The histogram of the individual data values is broadly spread out and skewed toward higher prices (outliers), as is to be expected with income data. The histograms of the means of 5, 20 and 50 are increasingly compact and more normal-shaped.  \n",
    "\n",
    "### Why?\n",
    "The distribution of a **sample statistic such as the mean** is likely to be more **regular and bell-shaped** than the distribution of the data itself. The larger the sample the statistic is based on, the more this is true. Also, the larger the sample, the narrower the distribution of the sample statistic.  \n",
    "\n",
    "The science behind it is the **Central Limit Theorem**: the means drawn from multiple samples will resemble the familiar bell-shaped normal curve — even if the source population is not normally distributed."
   ]
  },
  {
   "cell_type": "code",
   "execution_count": 78,
   "metadata": {},
   "outputs": [
    {
     "name": "stdout",
     "output_type": "stream",
     "text": [
      "Standard Errors:\n",
      "Sample Data: 5311.770293822693\n",
      "Sample Mean of 5: 2412.560853291112\n",
      "Sample Mean of 20: 1224.754800645932\n",
      "Sample Mean of 50: 711.0210733825463\n"
     ]
    }
   ],
   "source": [
    "# Compute standars deviations\n",
    "sample_data_std = sample_data['price'].std()\n",
    "sample_mean_5_std = sample_mean_5['price'].std()\n",
    "sample_mean_20_std = sample_mean_20['price'].std()\n",
    "sample_mean_50_std = sample_mean_50['price'].std()\n",
    "\n",
    "# Compute standard errors\n",
    "se_data = sample_data_std / np.sqrt(2000)\n",
    "se_mean_5 = sample_mean_5_std / np.sqrt(2000)\n",
    "se_mean_20 = sample_mean_20_std / np.sqrt(2000)\n",
    "se_mean_50 = sample_mean_50_std / np.sqrt(2000)\n",
    "\n",
    "print(\"Standard Errors:\")\n",
    "print(\"Sample Data:\", se_data)\n",
    "print(\"Sample Mean of 5:\", se_mean_5)\n",
    "print(\"Sample Mean of 20:\", se_mean_20)\n",
    "print(\"Sample Mean of 50:\", se_mean_50)"
   ]
  },
  {
   "cell_type": "markdown",
   "metadata": {},
   "source": []
  }
 ],
 "metadata": {
  "kernelspec": {
   "display_name": "myenv",
   "language": "python",
   "name": "myenv"
  },
  "language_info": {
   "codemirror_mode": {
    "name": "ipython",
    "version": 3
   },
   "file_extension": ".py",
   "mimetype": "text/x-python",
   "name": "python",
   "nbconvert_exporter": "python",
   "pygments_lexer": "ipython3",
   "version": "3.11.6"
  }
 },
 "nbformat": 4,
 "nbformat_minor": 2
}
