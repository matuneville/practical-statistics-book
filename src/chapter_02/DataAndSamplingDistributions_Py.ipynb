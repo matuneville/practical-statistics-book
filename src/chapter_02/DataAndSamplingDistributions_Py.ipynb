{
 "cells": [
  {
   "cell_type": "code",
   "execution_count": 1,
   "metadata": {},
   "outputs": [],
   "source": [
    "import pandas as pd\n",
    "import seaborn as sns\n",
    "import matplotlib.pyplot as plt\n",
    "import numpy as np\n",
    "from sklearn.utils import resample"
   ]
  },
  {
   "cell_type": "code",
   "execution_count": 110,
   "metadata": {},
   "outputs": [],
   "source": [
    "# Sample of apartment prices of 2020 from Ciudad Autonoma de Buenos Aires\n",
    "apt_prices_caba = pd.read_csv('data/departamentos-en-venta-2020.csv')\n",
    "\n",
    "loans_income = pd.read_csv('data/loans_income.csv')"
   ]
  },
  {
   "cell_type": "markdown",
   "metadata": {},
   "source": [
    "## Sampling Distribution of a Statistic\n",
    "\n",
    "- The frequency distribution of a **sample statistic** tells us how that metric would turn out differently from sample to sample.\n",
    "- This sampling distribution can be estimated via the **bootstrap**, or via formulas that rely on the central limit theorem.\n",
    "- A key metric that sums up the variability of a sample statistic is its **standard error**."
   ]
  },
  {
   "cell_type": "code",
   "execution_count": 3,
   "metadata": {},
   "outputs": [],
   "source": [
    "sample_data = pd.DataFrame({ # Sample of 2000 apartment prices\n",
    "    'price': apt_prices_caba['Dolares'].sample(2000),\n",
    "    'type': 'Data'\n",
    "})\n",
    "sample_mean_5 = pd.DataFrame({ # Sample of 2000 means of 5 prices\n",
    "    'price': [apt_prices_caba['Dolares'].sample(5).mean() for _ in range(2000)],\n",
    "    'type': 'Mean of 5'\n",
    "})\n",
    "sample_mean_20 = pd.DataFrame({ # Sample of 2000 means of 20 prices\n",
    "    'price': [apt_prices_caba['Dolares'].sample(20).mean() for _ in range(2000)],\n",
    "    'type': 'Mean of 20'\n",
    "})\n",
    "sample_mean_50 = pd.DataFrame({ # Sample of 2000 means of 50 prices\n",
    "    'price': [apt_prices_caba['Dolares'].sample(50).mean() for _ in range(2000)],\n",
    "    'type': 'Mean of 50'\n",
    "})"
   ]
  },
  {
   "cell_type": "code",
   "execution_count": 4,
   "metadata": {},
   "outputs": [
    {
     "data": {
      "text/plain": [
       "<seaborn.axisgrid.FacetGrid at 0x78790ab1b110>"
      ]
     },
     "execution_count": 4,
     "metadata": {},
     "output_type": "execute_result"
    },
    {
     "data": {
      "image/png": "[encoded data removed]",
      "text/plain": [
       "<Figure size 1000x400 with 4 Axes>"
      ]
     },
     "metadata": {},
     "output_type": "display_data"
    }
   ],
   "source": [
    "results = pd.concat([sample_data, sample_mean_5, sample_mean_20, sample_mean_50])\n",
    "g = sns.FacetGrid(results, col='type', col_wrap=2, height=2, aspect=2.5)\n",
    "g.map(plt.hist, 'price', range=[0, 6e5], bins=40, color='grey')\n",
    "g.set_axis_labels('Price of apartments', 'Count')\n",
    "g.set_titles('{col_name}')"
   ]
  },
  {
   "cell_type": "markdown",
   "metadata": {},
   "source": [
    "The histogram of the individual data values is broadly spread out and skewed toward higher prices (outliers), as is to be expected with income data. The histograms of the means of 5, 20 and 50 are increasingly compact and more normal-shaped.  \n",
    "\n",
    "### Why?\n",
    "The distribution of a **sample statistic such as the mean** is likely to be more **regular and bell-shaped** than the distribution of the data itself. The larger the sample the statistic is based on, the more this is true. Also, the larger the sample, the narrower the distribution of the sample statistic.  \n",
    "\n",
    "The science behind it is the **Central Limit Theorem**: the means drawn from multiple samples will resemble the familiar bell-shaped normal curve — even if the source population is not normally distributed."
   ]
  },
  {
   "cell_type": "code",
   "execution_count": 5,
   "metadata": {},
   "outputs": [
    {
     "name": "stdout",
     "output_type": "stream",
     "text": [
      "Standard Errors:\n",
      "Sample Data: 4275.001793033262\n",
      "Sample Mean of 5: 2416.247580828819\n",
      "Sample Mean of 20: 1148.7643713146404\n",
      "Sample Mean of 50: 732.8805406080509\n"
     ]
    }
   ],
   "source": [
    "# Compute standars deviations\n",
    "sample_data_std = sample_data['price'].std()\n",
    "sample_mean_5_std = sample_mean_5['price'].std()\n",
    "sample_mean_20_std = sample_mean_20['price'].std()\n",
    "sample_mean_50_std = sample_mean_50['price'].std()\n",
    "\n",
    "# Compute standard errors\n",
    "se_data = sample_data_std / np.sqrt(2000)\n",
    "se_mean_5 = sample_mean_5_std / np.sqrt(2000)\n",
    "se_mean_20 = sample_mean_20_std / np.sqrt(2000)\n",
    "se_mean_50 = sample_mean_50_std / np.sqrt(2000)\n",
    "\n",
    "print(\"Standard Errors:\")\n",
    "print(\"Sample Data:\", se_data)\n",
    "print(\"Sample Mean of 5:\", se_mean_5)\n",
    "print(\"Sample Mean of 20:\", se_mean_20)\n",
    "print(\"Sample Mean of 50:\", se_mean_50)"
   ]
  },
  {
   "cell_type": "markdown",
   "metadata": {},
   "source": [
    "## Bootstrapping\n",
    "\n",
    "- The bootstrap (sampling with replacement from a data set) is a powerful tool for assessing the variability of a sample statistic.\n",
    "- The bootstrap can be applied in similar fashion in a wide variety of circumstances, without extensive study of mathematical approximations to sampling distributions.\n",
    "- It also allows us to estimate sampling distributions for statistics where no mathematical approximation has been developed, nor no mathematical information about the population is given.\n",
    "- When applied to predictive models, aggregating multiple bootstrap sample predictions (bagging) outperforms the use of a single model.\n"
   ]
  },
  {
   "cell_type": "code",
   "execution_count": 141,
   "metadata": {},
   "outputs": [
    {
     "name": "stdout",
     "output_type": "stream",
     "text": [
      "Bootstrap Statistics:\n",
      "Original median: 2757.0\n",
      "Bias: -0.134\n",
      "Std. error: 2.9939\n"
     ]
    }
   ],
   "source": [
    "# Take the sample of the apartments, specifically the m^2 prices\n",
    "apt_m2_prices = apt_prices_caba['DolaresM2']\n",
    "\n",
    "bootstrap_results = []\n",
    "for _ in range(1000):\n",
    "    new_sample = resample(apt_m2_prices)\n",
    "    bootstrap_results.append(new_sample.median())\n",
    "\n",
    "bootstrap_results = pd.Series(bootstrap_results)\n",
    "print('Bootstrap Statistics:')\n",
    "print(f'Original median: {apt_m2_prices.median()}')\n",
    "print(f'Bias: {round(bootstrap_results.mean() - apt_m2_prices.median(), 4)}')\n",
    "print(f'Std. error: {round(bootstrap_results.std(), 4)}')"
   ]
  },
  {
   "cell_type": "markdown",
   "metadata": {},
   "source": [
    "The bootstrap does not compensate for a small sample size; it does not create new data, nor does it fill in holes in an existing data set. It merely informs us about how lots of additional samples would behave when drawn from a population like our original sample."
   ]
  }
 ],
 "metadata": {
  "kernelspec": {
   "display_name": "myenv",
   "language": "python",
   "name": "myenv"
  },
  "language_info": {
   "codemirror_mode": {
    "name": "ipython",
    "version": 3
   },
   "file_extension": ".py",
   "mimetype": "text/x-python",
   "name": "python",
   "nbconvert_exporter": "python",
   "pygments_lexer": "ipython3",
   "version": "3.11.6"
  }
 },
 "nbformat": 4,
 "nbformat_minor": 2
}
